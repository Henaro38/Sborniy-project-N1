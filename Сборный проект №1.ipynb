{
 "cells": [
  {
   "cell_type": "markdown",
   "id": "ed51bba2",
   "metadata": {
    "toc": true
   },
   "source": [
    "<h1>Содержание<span class=\"tocSkip\"></span></h1>\n",
    "<div class=\"toc\"><ul class=\"toc-item\"><li><span><a href=\"#Откройте-файл-с-данными-и-изучите-общую-информацию\" data-toc-modified-id=\"Откройте-файл-с-данными-и-изучите-общую-информацию-1\"><span class=\"toc-item-num\">1&nbsp;&nbsp;</span>Откройте файл с данными и изучите общую информацию</a></span></li><li><span><a href=\"#Подготовьте-данные\" data-toc-modified-id=\"Подготовьте-данные-2\"><span class=\"toc-item-num\">2&nbsp;&nbsp;</span>Подготовьте данные</a></span><ul class=\"toc-item\"><li><span><a href=\"#Приведем-названия-столбцов-к-нижнему-регистру\" data-toc-modified-id=\"Приведем-названия-столбцов-к-нижнему-регистру-2.1\"><span class=\"toc-item-num\">2.1&nbsp;&nbsp;</span>Приведем названия столбцов к нижнему регистру</a></span></li><li><span><a href=\"#Преобразуем-данные-в-нужные-типы\" data-toc-modified-id=\"Преобразуем-данные-в-нужные-типы-2.2\"><span class=\"toc-item-num\">2.2&nbsp;&nbsp;</span>Преобразуем данные в нужные типы</a></span></li><li><span><a href=\"#Обработка-пропусков\" data-toc-modified-id=\"Обработка-пропусков-2.3\"><span class=\"toc-item-num\">2.3&nbsp;&nbsp;</span>Обработка пропусков</a></span></li><li><span><a href=\"#Суммарные-продажи-во-всех-регионах\" data-toc-modified-id=\"Суммарные-продажи-во-всех-регионах-2.4\"><span class=\"toc-item-num\">2.4&nbsp;&nbsp;</span>Суммарные продажи во всех регионах</a></span></li></ul></li><li><span><a href=\"#Исследовательский-анализ-данных\" data-toc-modified-id=\"Исследовательский-анализ-данных-3\"><span class=\"toc-item-num\">3&nbsp;&nbsp;</span>Исследовательский анализ данных</a></span><ul class=\"toc-item\"><li><span><a href=\"#Сколько-всего-игр-выпускалось-в-разные-года\" data-toc-modified-id=\"Сколько-всего-игр-выпускалось-в-разные-года-3.1\"><span class=\"toc-item-num\">3.1&nbsp;&nbsp;</span>Сколько всего игр выпускалось в разные года</a></span></li><li><span><a href=\"#Как-менялись-продажи-по-платформам\" data-toc-modified-id=\"Как-менялись-продажи-по-платформам-3.2\"><span class=\"toc-item-num\">3.2&nbsp;&nbsp;</span>Как менялись продажи по платформам</a></span></li><li><span><a href=\"#Какие-платформы-лидируют-по-продажам,-растут-или-падают?\" data-toc-modified-id=\"Какие-платформы-лидируют-по-продажам,-растут-или-падают?-3.3\"><span class=\"toc-item-num\">3.3&nbsp;&nbsp;</span>Какие платформы лидируют по продажам, растут или падают?</a></span></li><li><span><a href=\"#Постройте-график-«ящик-с-усами»-по-глобальным-продажам-игр-в-разбивке-по-платформам\" data-toc-modified-id=\"Постройте-график-«ящик-с-усами»-по-глобальным-продажам-игр-в-разбивке-по-платформам-3.4\"><span class=\"toc-item-num\">3.4&nbsp;&nbsp;</span>Постройте график «ящик с усами» по глобальным продажам игр в разбивке по платформам</a></span></li><li><span><a href=\"#Посмотрите,-как-влияют-на-продажи-внутри-одной-популярной-платформы-отзывы-пользователей-и-критиков\" data-toc-modified-id=\"Посмотрите,-как-влияют-на-продажи-внутри-одной-популярной-платформы-отзывы-пользователей-и-критиков-3.5\"><span class=\"toc-item-num\">3.5&nbsp;&nbsp;</span>Посмотрите, как влияют на продажи внутри одной популярной платформы отзывы пользователей и критиков</a></span></li><li><span><a href=\"#Соотнесем-с-продажами-на-другой-платформе\" data-toc-modified-id=\"Соотнесем-с-продажами-на-другой-платформе-3.6\"><span class=\"toc-item-num\">3.6&nbsp;&nbsp;</span>Соотнесем с продажами на другой платформе</a></span></li><li><span><a href=\"#Посмотрите-на-общее-распределение-игр-по-жанрам.-Что-можно-сказать-о-самых-прибыльных-жанрах?\" data-toc-modified-id=\"Посмотрите-на-общее-распределение-игр-по-жанрам.-Что-можно-сказать-о-самых-прибыльных-жанрах?-3.7\"><span class=\"toc-item-num\">3.7&nbsp;&nbsp;</span>Посмотрите на общее распределение игр по жанрам. Что можно сказать о самых прибыльных жанрах?</a></span></li></ul></li><li><span><a href=\"#Составьте-портрет-пользователя-каждого-региона\" data-toc-modified-id=\"Составьте-портрет-пользователя-каждого-региона-4\"><span class=\"toc-item-num\">4&nbsp;&nbsp;</span>Составьте портрет пользователя каждого региона</a></span></li><li><span><a href=\"#Проверьте-гипотезы\" data-toc-modified-id=\"Проверьте-гипотезы-5\"><span class=\"toc-item-num\">5&nbsp;&nbsp;</span>Проверьте гипотезы</a></span><ul class=\"toc-item\"><li><span><a href=\"#Средние-пользовательские-рейтинги-платформ-Xbox-One-и-PC-одинаковые\" data-toc-modified-id=\"Средние-пользовательские-рейтинги-платформ-Xbox-One-и-PC-одинаковые-5.1\"><span class=\"toc-item-num\">5.1&nbsp;&nbsp;</span>Средние пользовательские рейтинги платформ Xbox One и PC одинаковые</a></span></li><li><span><a href=\"#Средние-пользовательские-рейтинги-жанров-Action--и-Sports-разные.\" data-toc-modified-id=\"Средние-пользовательские-рейтинги-жанров-Action--и-Sports-разные.-5.2\"><span class=\"toc-item-num\">5.2&nbsp;&nbsp;</span>Средние пользовательские рейтинги жанров Action  и Sports разные.</a></span></li></ul></li><li><span><a href=\"#Вывод\" data-toc-modified-id=\"Вывод-6\"><span class=\"toc-item-num\">6&nbsp;&nbsp;</span>Вывод</a></span></li></ul></div>"
   ]
  },
  {
   "cell_type": "markdown",
   "id": "608892e4",
   "metadata": {},
   "source": [
    "# Сборный проект\n"
   ]
  },
  {
   "cell_type": "markdown",
   "id": "7b5eb6e1",
   "metadata": {},
   "source": [
    "**Описание проекта**:  \n",
    "Вы работаете в интернет-магазине «Стримчик», который продаёт по всему миру компьютерные игры. Из открытых источников доступны исторические данные о продажах игр, оценки пользователей и экспертов, жанры и платформы (например, Xbox или PlayStation).   \n",
    "\n",
    "\n",
    "**Цель проекта**:  \n",
    "Выявить определяющие успешность игры закономерности"
   ]
  },
  {
   "cell_type": "markdown",
   "id": "8184628e",
   "metadata": {},
   "source": [
    "<h1>Содержание<span class=\"tocSkip\"></span></h1>\n",
    "<div class=\"toc\"><ul class=\"toc-item\"><li><span><a href=\"#Откройте-файл-с-данными-и-изучите-общую-информацию\" data-toc-modified-id=\"Откройте-файл-с-данными-и-изучите-общую-информацию-1\"><span class=\"toc-item-num\">1&nbsp;&nbsp;</span>Откройте файл с данными и изучите общую информацию</a></span></li><li><span><a href=\"#Подготовьте-данные\" data-toc-modified-id=\"Подготовьте-данные-2\"><span class=\"toc-item-num\">2&nbsp;&nbsp;</span>Подготовьте данные</a></span><ul class=\"toc-item\"><li><span><a href=\"#Приведем-названия-столбцов-к-нижнему-регистру\" data-toc-modified-id=\"Приведем-названия-столбцов-к-нижнему-регистру-2.1\"><span class=\"toc-item-num\">2.1&nbsp;&nbsp;</span>Приведем названия столбцов к нижнему регистру</a></span></li><li><span><a href=\"#Преобразуем-данные-в-нужные-типы\" data-toc-modified-id=\"Преобразуем-данные-в-нужные-типы-2.2\"><span class=\"toc-item-num\">2.2&nbsp;&nbsp;</span>Преобразуем данные в нужные типы</a></span></li><li><span><a href=\"#Обработка-пропусков\" data-toc-modified-id=\"Обработка-пропусков-2.3\"><span class=\"toc-item-num\">2.3&nbsp;&nbsp;</span>Обработка пропусков</a></span></li><li><span><a href=\"#Суммарные-продажи-во-всех-регионах\" data-toc-modified-id=\"Суммарные-продажи-во-всех-регионах-2.4\"><span class=\"toc-item-num\">2.4&nbsp;&nbsp;</span>Суммарные продажи во всех регионах</a></span></li></ul></li><li><span><a href=\"#Исследовательский-анализ-данных\" data-toc-modified-id=\"Исследовательский-анализ-данных-3\"><span class=\"toc-item-num\">3&nbsp;&nbsp;</span>Исследовательский анализ данных</a></span><ul class=\"toc-item\"><li><span><a href=\"#Сколько-всего-игр-выпускалось-в-разные-года\" data-toc-modified-id=\"Сколько-всего-игр-выпускалось-в-разные-года-3.1\"><span class=\"toc-item-num\">3.1&nbsp;&nbsp;</span>Сколько всего игр выпускалось в разные года</a></span></li><li><span><a href=\"#Как-менялись-продажи-по-платформам\" data-toc-modified-id=\"Как-менялись-продажи-по-платформам-3.2\"><span class=\"toc-item-num\">3.2&nbsp;&nbsp;</span>Как менялись продажи по платформам</a></span></li><li><span><a href=\"#Какие-платформы-лидируют-по-продажам,-растут-или-падают?\" data-toc-modified-id=\"Какие-платформы-лидируют-по-продажам,-растут-или-падают?-3.3\"><span class=\"toc-item-num\">3.3&nbsp;&nbsp;</span>Какие платформы лидируют по продажам, растут или падают?</a></span></li><li><span><a href=\"#Постройте-график-«ящик-с-усами»-по-глобальным-продажам-игр-в-разбивке-по-платформам\" data-toc-modified-id=\"Постройте-график-«ящик-с-усами»-по-глобальным-продажам-игр-в-разбивке-по-платформам-3.4\"><span class=\"toc-item-num\">3.4&nbsp;&nbsp;</span>Постройте график «ящик с усами» по глобальным продажам игр в разбивке по платформам</a></span></li><li><span><a href=\"#Посмотрите,-как-влияют-на-продажи-внутри-одной-популярной-платформы-отзывы-пользователей-и-критиков\" data-toc-modified-id=\"Посмотрите,-как-влияют-на-продажи-внутри-одной-популярной-платформы-отзывы-пользователей-и-критиков-3.5\"><span class=\"toc-item-num\">3.5&nbsp;&nbsp;</span>Посмотрите, как влияют на продажи внутри одной популярной платформы отзывы пользователей и критиков</a></span></li><li><span><a href=\"#Соотнесем-с-продажами-на-другой-платформе\" data-toc-modified-id=\"Соотнесем-с-продажами-на-другой-платформе-3.6\"><span class=\"toc-item-num\">3.6&nbsp;&nbsp;</span>Соотнесем с продажами на другой платформе</a></span></li><li><span><a href=\"#Посмотрите-на-общее-распределение-игр-по-жанрам.-Что-можно-сказать-о-самых-прибыльных-жанрах?\" data-toc-modified-id=\"Посмотрите-на-общее-распределение-игр-по-жанрам.-Что-можно-сказать-о-самых-прибыльных-жанрах?-3.7\"><span class=\"toc-item-num\">3.7&nbsp;&nbsp;</span>Посмотрите на общее распределение игр по жанрам. Что можно сказать о самых прибыльных жанрах?</a></span></li></ul></li><li><span><a href=\"#Составьте-портрет-пользователя-каждого-региона\" data-toc-modified-id=\"Составьте-портрет-пользователя-каждого-региона-4\"><span class=\"toc-item-num\">4&nbsp;&nbsp;</span>Составьте портрет пользователя каждого региона</a></span></li><li><span><a href=\"#Проверьте-гипотезы\" data-toc-modified-id=\"Проверьте-гипотезы-5\"><span class=\"toc-item-num\">5&nbsp;&nbsp;</span>Проверьте гипотезы</a></span><ul class=\"toc-item\"><li><span><a href=\"#Средние-пользовательские-рейтинги-платформ-Xbox-One-и-PC-одинаковые\" data-toc-modified-id=\"Средние-пользовательские-рейтинги-платформ-Xbox-One-и-PC-одинаковые-5.1\"><span class=\"toc-item-num\">5.1&nbsp;&nbsp;</span>Средние пользовательские рейтинги платформ Xbox One и PC одинаковые</a></span></li><li><span><a href=\"#Средние-пользовательские-рейтинги-жанров-Action--и-Sports-разные.\" data-toc-modified-id=\"Средние-пользовательские-рейтинги-жанров-Action--и-Sports-разные.-5.2\"><span class=\"toc-item-num\">5.2&nbsp;&nbsp;</span>Средние пользовательские рейтинги жанров Action  и Sports разные.</a></span></li></ul></li><li><span><a href=\"#Вывод\" data-toc-modified-id=\"Вывод-6\"><span class=\"toc-item-num\">6&nbsp;&nbsp;</span>Вывод</a></span></li></ul></div>"
   ]
  },
  {
   "cell_type": "markdown",
   "id": "d85c114e",
   "metadata": {},
   "source": [
    "## Откройте файл с данными и изучите общую информацию"
   ]
  },
  {
   "cell_type": "code",
   "execution_count": 1,
   "id": "82ed7752",
   "metadata": {},
   "outputs": [],
   "source": [
    "#импортируем нужные нам библиотеки\n",
    "import pandas as pd\n",
    "import matplotlib.pyplot as plt\n",
    "import numpy as np\n",
    "from scipy import stats as st\n",
    "import seaborn as sns"
   ]
  },
  {
   "cell_type": "code",
   "execution_count": 2,
   "id": "466c704f",
   "metadata": {},
   "outputs": [],
   "source": [
    "#Загружаем нужные нам таблицы\n",
    "#games = pd.read_csv('/Users/evgenijdudin/Downloads/games.csv')\n",
    "games = pd.read_csv('https://code.s3.yandex.net/datasets/games.csv')"
   ]
  },
  {
   "cell_type": "code",
   "execution_count": 3,
   "id": "76e857bb",
   "metadata": {},
   "outputs": [
    {
     "data": {
      "text/html": [
       "<div>\n",
       "<style scoped>\n",
       "    .dataframe tbody tr th:only-of-type {\n",
       "        vertical-align: middle;\n",
       "    }\n",
       "\n",
       "    .dataframe tbody tr th {\n",
       "        vertical-align: top;\n",
       "    }\n",
       "\n",
       "    .dataframe thead th {\n",
       "        text-align: right;\n",
       "    }\n",
       "</style>\n",
       "<table border=\"1\" class=\"dataframe\">\n",
       "  <thead>\n",
       "    <tr style=\"text-align: right;\">\n",
       "      <th></th>\n",
       "      <th>Name</th>\n",
       "      <th>Platform</th>\n",
       "      <th>Year_of_Release</th>\n",
       "      <th>Genre</th>\n",
       "      <th>NA_sales</th>\n",
       "      <th>EU_sales</th>\n",
       "      <th>JP_sales</th>\n",
       "      <th>Other_sales</th>\n",
       "      <th>Critic_Score</th>\n",
       "      <th>User_Score</th>\n",
       "      <th>Rating</th>\n",
       "    </tr>\n",
       "  </thead>\n",
       "  <tbody>\n",
       "    <tr>\n",
       "      <th>0</th>\n",
       "      <td>Wii Sports</td>\n",
       "      <td>Wii</td>\n",
       "      <td>2006.0</td>\n",
       "      <td>Sports</td>\n",
       "      <td>41.36</td>\n",
       "      <td>28.96</td>\n",
       "      <td>3.77</td>\n",
       "      <td>8.45</td>\n",
       "      <td>76.0</td>\n",
       "      <td>8</td>\n",
       "      <td>E</td>\n",
       "    </tr>\n",
       "    <tr>\n",
       "      <th>1</th>\n",
       "      <td>Super Mario Bros.</td>\n",
       "      <td>NES</td>\n",
       "      <td>1985.0</td>\n",
       "      <td>Platform</td>\n",
       "      <td>29.08</td>\n",
       "      <td>3.58</td>\n",
       "      <td>6.81</td>\n",
       "      <td>0.77</td>\n",
       "      <td>NaN</td>\n",
       "      <td>NaN</td>\n",
       "      <td>NaN</td>\n",
       "    </tr>\n",
       "    <tr>\n",
       "      <th>2</th>\n",
       "      <td>Mario Kart Wii</td>\n",
       "      <td>Wii</td>\n",
       "      <td>2008.0</td>\n",
       "      <td>Racing</td>\n",
       "      <td>15.68</td>\n",
       "      <td>12.76</td>\n",
       "      <td>3.79</td>\n",
       "      <td>3.29</td>\n",
       "      <td>82.0</td>\n",
       "      <td>8.3</td>\n",
       "      <td>E</td>\n",
       "    </tr>\n",
       "    <tr>\n",
       "      <th>3</th>\n",
       "      <td>Wii Sports Resort</td>\n",
       "      <td>Wii</td>\n",
       "      <td>2009.0</td>\n",
       "      <td>Sports</td>\n",
       "      <td>15.61</td>\n",
       "      <td>10.93</td>\n",
       "      <td>3.28</td>\n",
       "      <td>2.95</td>\n",
       "      <td>80.0</td>\n",
       "      <td>8</td>\n",
       "      <td>E</td>\n",
       "    </tr>\n",
       "    <tr>\n",
       "      <th>4</th>\n",
       "      <td>Pokemon Red/Pokemon Blue</td>\n",
       "      <td>GB</td>\n",
       "      <td>1996.0</td>\n",
       "      <td>Role-Playing</td>\n",
       "      <td>11.27</td>\n",
       "      <td>8.89</td>\n",
       "      <td>10.22</td>\n",
       "      <td>1.00</td>\n",
       "      <td>NaN</td>\n",
       "      <td>NaN</td>\n",
       "      <td>NaN</td>\n",
       "    </tr>\n",
       "    <tr>\n",
       "      <th>5</th>\n",
       "      <td>Tetris</td>\n",
       "      <td>GB</td>\n",
       "      <td>1989.0</td>\n",
       "      <td>Puzzle</td>\n",
       "      <td>23.20</td>\n",
       "      <td>2.26</td>\n",
       "      <td>4.22</td>\n",
       "      <td>0.58</td>\n",
       "      <td>NaN</td>\n",
       "      <td>NaN</td>\n",
       "      <td>NaN</td>\n",
       "    </tr>\n",
       "    <tr>\n",
       "      <th>6</th>\n",
       "      <td>New Super Mario Bros.</td>\n",
       "      <td>DS</td>\n",
       "      <td>2006.0</td>\n",
       "      <td>Platform</td>\n",
       "      <td>11.28</td>\n",
       "      <td>9.14</td>\n",
       "      <td>6.50</td>\n",
       "      <td>2.88</td>\n",
       "      <td>89.0</td>\n",
       "      <td>8.5</td>\n",
       "      <td>E</td>\n",
       "    </tr>\n",
       "    <tr>\n",
       "      <th>7</th>\n",
       "      <td>Wii Play</td>\n",
       "      <td>Wii</td>\n",
       "      <td>2006.0</td>\n",
       "      <td>Misc</td>\n",
       "      <td>13.96</td>\n",
       "      <td>9.18</td>\n",
       "      <td>2.93</td>\n",
       "      <td>2.84</td>\n",
       "      <td>58.0</td>\n",
       "      <td>6.6</td>\n",
       "      <td>E</td>\n",
       "    </tr>\n",
       "    <tr>\n",
       "      <th>8</th>\n",
       "      <td>New Super Mario Bros. Wii</td>\n",
       "      <td>Wii</td>\n",
       "      <td>2009.0</td>\n",
       "      <td>Platform</td>\n",
       "      <td>14.44</td>\n",
       "      <td>6.94</td>\n",
       "      <td>4.70</td>\n",
       "      <td>2.24</td>\n",
       "      <td>87.0</td>\n",
       "      <td>8.4</td>\n",
       "      <td>E</td>\n",
       "    </tr>\n",
       "    <tr>\n",
       "      <th>9</th>\n",
       "      <td>Duck Hunt</td>\n",
       "      <td>NES</td>\n",
       "      <td>1984.0</td>\n",
       "      <td>Shooter</td>\n",
       "      <td>26.93</td>\n",
       "      <td>0.63</td>\n",
       "      <td>0.28</td>\n",
       "      <td>0.47</td>\n",
       "      <td>NaN</td>\n",
       "      <td>NaN</td>\n",
       "      <td>NaN</td>\n",
       "    </tr>\n",
       "  </tbody>\n",
       "</table>\n",
       "</div>"
      ],
      "text/plain": [
       "                        Name Platform  Year_of_Release         Genre  \\\n",
       "0                 Wii Sports      Wii           2006.0        Sports   \n",
       "1          Super Mario Bros.      NES           1985.0      Platform   \n",
       "2             Mario Kart Wii      Wii           2008.0        Racing   \n",
       "3          Wii Sports Resort      Wii           2009.0        Sports   \n",
       "4   Pokemon Red/Pokemon Blue       GB           1996.0  Role-Playing   \n",
       "5                     Tetris       GB           1989.0        Puzzle   \n",
       "6      New Super Mario Bros.       DS           2006.0      Platform   \n",
       "7                   Wii Play      Wii           2006.0          Misc   \n",
       "8  New Super Mario Bros. Wii      Wii           2009.0      Platform   \n",
       "9                  Duck Hunt      NES           1984.0       Shooter   \n",
       "\n",
       "   NA_sales  EU_sales  JP_sales  Other_sales  Critic_Score User_Score Rating  \n",
       "0     41.36     28.96      3.77         8.45          76.0          8      E  \n",
       "1     29.08      3.58      6.81         0.77           NaN        NaN    NaN  \n",
       "2     15.68     12.76      3.79         3.29          82.0        8.3      E  \n",
       "3     15.61     10.93      3.28         2.95          80.0          8      E  \n",
       "4     11.27      8.89     10.22         1.00           NaN        NaN    NaN  \n",
       "5     23.20      2.26      4.22         0.58           NaN        NaN    NaN  \n",
       "6     11.28      9.14      6.50         2.88          89.0        8.5      E  \n",
       "7     13.96      9.18      2.93         2.84          58.0        6.6      E  \n",
       "8     14.44      6.94      4.70         2.24          87.0        8.4      E  \n",
       "9     26.93      0.63      0.28         0.47           NaN        NaN    NaN  "
      ]
     },
     "execution_count": 3,
     "metadata": {},
     "output_type": "execute_result"
    }
   ],
   "source": [
    "#посмотрим таблицу\n",
    "games.head(10)"
   ]
  },
  {
   "cell_type": "code",
   "execution_count": 4,
   "id": "355ce30f",
   "metadata": {},
   "outputs": [
    {
     "data": {
      "text/html": [
       "<div>\n",
       "<style scoped>\n",
       "    .dataframe tbody tr th:only-of-type {\n",
       "        vertical-align: middle;\n",
       "    }\n",
       "\n",
       "    .dataframe tbody tr th {\n",
       "        vertical-align: top;\n",
       "    }\n",
       "\n",
       "    .dataframe thead th {\n",
       "        text-align: right;\n",
       "    }\n",
       "</style>\n",
       "<table border=\"1\" class=\"dataframe\">\n",
       "  <thead>\n",
       "    <tr style=\"text-align: right;\">\n",
       "      <th></th>\n",
       "      <th>Year_of_Release</th>\n",
       "      <th>NA_sales</th>\n",
       "      <th>EU_sales</th>\n",
       "      <th>JP_sales</th>\n",
       "      <th>Other_sales</th>\n",
       "      <th>Critic_Score</th>\n",
       "    </tr>\n",
       "  </thead>\n",
       "  <tbody>\n",
       "    <tr>\n",
       "      <th>count</th>\n",
       "      <td>16446.000000</td>\n",
       "      <td>16715.000000</td>\n",
       "      <td>16715.000000</td>\n",
       "      <td>16715.000000</td>\n",
       "      <td>16715.000000</td>\n",
       "      <td>8137.000000</td>\n",
       "    </tr>\n",
       "    <tr>\n",
       "      <th>mean</th>\n",
       "      <td>2006.484616</td>\n",
       "      <td>0.263377</td>\n",
       "      <td>0.145060</td>\n",
       "      <td>0.077617</td>\n",
       "      <td>0.047342</td>\n",
       "      <td>68.967679</td>\n",
       "    </tr>\n",
       "    <tr>\n",
       "      <th>std</th>\n",
       "      <td>5.877050</td>\n",
       "      <td>0.813604</td>\n",
       "      <td>0.503339</td>\n",
       "      <td>0.308853</td>\n",
       "      <td>0.186731</td>\n",
       "      <td>13.938165</td>\n",
       "    </tr>\n",
       "    <tr>\n",
       "      <th>min</th>\n",
       "      <td>1980.000000</td>\n",
       "      <td>0.000000</td>\n",
       "      <td>0.000000</td>\n",
       "      <td>0.000000</td>\n",
       "      <td>0.000000</td>\n",
       "      <td>13.000000</td>\n",
       "    </tr>\n",
       "    <tr>\n",
       "      <th>25%</th>\n",
       "      <td>2003.000000</td>\n",
       "      <td>0.000000</td>\n",
       "      <td>0.000000</td>\n",
       "      <td>0.000000</td>\n",
       "      <td>0.000000</td>\n",
       "      <td>60.000000</td>\n",
       "    </tr>\n",
       "    <tr>\n",
       "      <th>50%</th>\n",
       "      <td>2007.000000</td>\n",
       "      <td>0.080000</td>\n",
       "      <td>0.020000</td>\n",
       "      <td>0.000000</td>\n",
       "      <td>0.010000</td>\n",
       "      <td>71.000000</td>\n",
       "    </tr>\n",
       "    <tr>\n",
       "      <th>75%</th>\n",
       "      <td>2010.000000</td>\n",
       "      <td>0.240000</td>\n",
       "      <td>0.110000</td>\n",
       "      <td>0.040000</td>\n",
       "      <td>0.030000</td>\n",
       "      <td>79.000000</td>\n",
       "    </tr>\n",
       "    <tr>\n",
       "      <th>max</th>\n",
       "      <td>2016.000000</td>\n",
       "      <td>41.360000</td>\n",
       "      <td>28.960000</td>\n",
       "      <td>10.220000</td>\n",
       "      <td>10.570000</td>\n",
       "      <td>98.000000</td>\n",
       "    </tr>\n",
       "  </tbody>\n",
       "</table>\n",
       "</div>"
      ],
      "text/plain": [
       "       Year_of_Release      NA_sales      EU_sales      JP_sales  \\\n",
       "count     16446.000000  16715.000000  16715.000000  16715.000000   \n",
       "mean       2006.484616      0.263377      0.145060      0.077617   \n",
       "std           5.877050      0.813604      0.503339      0.308853   \n",
       "min        1980.000000      0.000000      0.000000      0.000000   \n",
       "25%        2003.000000      0.000000      0.000000      0.000000   \n",
       "50%        2007.000000      0.080000      0.020000      0.000000   \n",
       "75%        2010.000000      0.240000      0.110000      0.040000   \n",
       "max        2016.000000     41.360000     28.960000     10.220000   \n",
       "\n",
       "        Other_sales  Critic_Score  \n",
       "count  16715.000000   8137.000000  \n",
       "mean       0.047342     68.967679  \n",
       "std        0.186731     13.938165  \n",
       "min        0.000000     13.000000  \n",
       "25%        0.000000     60.000000  \n",
       "50%        0.010000     71.000000  \n",
       "75%        0.030000     79.000000  \n",
       "max       10.570000     98.000000  "
      ]
     },
     "metadata": {},
     "output_type": "display_data"
    },
    {
     "name": "stdout",
     "output_type": "stream",
     "text": [
      "<class 'pandas.core.frame.DataFrame'>\n",
      "RangeIndex: 16715 entries, 0 to 16714\n",
      "Data columns (total 11 columns):\n",
      " #   Column           Non-Null Count  Dtype  \n",
      "---  ------           --------------  -----  \n",
      " 0   Name             16713 non-null  object \n",
      " 1   Platform         16715 non-null  object \n",
      " 2   Year_of_Release  16446 non-null  float64\n",
      " 3   Genre            16713 non-null  object \n",
      " 4   NA_sales         16715 non-null  float64\n",
      " 5   EU_sales         16715 non-null  float64\n",
      " 6   JP_sales         16715 non-null  float64\n",
      " 7   Other_sales      16715 non-null  float64\n",
      " 8   Critic_Score     8137 non-null   float64\n",
      " 9   User_Score       10014 non-null  object \n",
      " 10  Rating           9949 non-null   object \n",
      "dtypes: float64(6), object(5)\n",
      "memory usage: 1.4+ MB\n"
     ]
    },
    {
     "data": {
      "text/plain": [
       "None"
      ]
     },
     "metadata": {},
     "output_type": "display_data"
    },
    {
     "name": "stdout",
     "output_type": "stream",
     "text": [
      "Количество дубликатов: 0\n"
     ]
    },
    {
     "data": {
      "text/html": [
       "<style  type=\"text/css\" >\n",
       "#T_bac38_row0_col0,#T_bac38_row1_col0,#T_bac38_row3_col0,#T_bac38_row4_col0,#T_bac38_row5_col0,#T_bac38_row6_col0,#T_bac38_row7_col0{\n",
       "            background-color:  #3b4cc0;\n",
       "            color:  #f1f1f1;\n",
       "        }#T_bac38_row2_col0{\n",
       "            background-color:  #4358cb;\n",
       "            color:  #f1f1f1;\n",
       "        }#T_bac38_row8_col0{\n",
       "            background-color:  #b40426;\n",
       "            color:  #f1f1f1;\n",
       "        }#T_bac38_row9_col0{\n",
       "            background-color:  #f08b6e;\n",
       "            color:  #000000;\n",
       "        }#T_bac38_row10_col0{\n",
       "            background-color:  #ef886b;\n",
       "            color:  #000000;\n",
       "        }</style><table id=\"T_bac38_\" ><thead>    <tr>        <th class=\"blank level0\" ></th>        <th class=\"col_heading level0 col0\" >0</th>    </tr></thead><tbody>\n",
       "                <tr>\n",
       "                        <th id=\"T_bac38_level0_row0\" class=\"row_heading level0 row0\" >Name</th>\n",
       "                        <td id=\"T_bac38_row0_col0\" class=\"data row0 col0\" >0.000000</td>\n",
       "            </tr>\n",
       "            <tr>\n",
       "                        <th id=\"T_bac38_level0_row1\" class=\"row_heading level0 row1\" >Platform</th>\n",
       "                        <td id=\"T_bac38_row1_col0\" class=\"data row1 col0\" >0.000000</td>\n",
       "            </tr>\n",
       "            <tr>\n",
       "                        <th id=\"T_bac38_level0_row2\" class=\"row_heading level0 row2\" >Year_of_Release</th>\n",
       "                        <td id=\"T_bac38_row2_col0\" class=\"data row2 col0\" >1.600000</td>\n",
       "            </tr>\n",
       "            <tr>\n",
       "                        <th id=\"T_bac38_level0_row3\" class=\"row_heading level0 row3\" >Genre</th>\n",
       "                        <td id=\"T_bac38_row3_col0\" class=\"data row3 col0\" >0.000000</td>\n",
       "            </tr>\n",
       "            <tr>\n",
       "                        <th id=\"T_bac38_level0_row4\" class=\"row_heading level0 row4\" >NA_sales</th>\n",
       "                        <td id=\"T_bac38_row4_col0\" class=\"data row4 col0\" >0.000000</td>\n",
       "            </tr>\n",
       "            <tr>\n",
       "                        <th id=\"T_bac38_level0_row5\" class=\"row_heading level0 row5\" >EU_sales</th>\n",
       "                        <td id=\"T_bac38_row5_col0\" class=\"data row5 col0\" >0.000000</td>\n",
       "            </tr>\n",
       "            <tr>\n",
       "                        <th id=\"T_bac38_level0_row6\" class=\"row_heading level0 row6\" >JP_sales</th>\n",
       "                        <td id=\"T_bac38_row6_col0\" class=\"data row6 col0\" >0.000000</td>\n",
       "            </tr>\n",
       "            <tr>\n",
       "                        <th id=\"T_bac38_level0_row7\" class=\"row_heading level0 row7\" >Other_sales</th>\n",
       "                        <td id=\"T_bac38_row7_col0\" class=\"data row7 col0\" >0.000000</td>\n",
       "            </tr>\n",
       "            <tr>\n",
       "                        <th id=\"T_bac38_level0_row8\" class=\"row_heading level0 row8\" >Critic_Score</th>\n",
       "                        <td id=\"T_bac38_row8_col0\" class=\"data row8 col0\" >51.300000</td>\n",
       "            </tr>\n",
       "            <tr>\n",
       "                        <th id=\"T_bac38_level0_row9\" class=\"row_heading level0 row9\" >User_Score</th>\n",
       "                        <td id=\"T_bac38_row9_col0\" class=\"data row9 col0\" >40.100000</td>\n",
       "            </tr>\n",
       "            <tr>\n",
       "                        <th id=\"T_bac38_level0_row10\" class=\"row_heading level0 row10\" >Rating</th>\n",
       "                        <td id=\"T_bac38_row10_col0\" class=\"data row10 col0\" >40.500000</td>\n",
       "            </tr>\n",
       "    </tbody></table>"
      ],
      "text/plain": [
       "<pandas.io.formats.style.Styler at 0x7f3d38947550>"
      ]
     },
     "execution_count": 4,
     "metadata": {},
     "output_type": "execute_result"
    }
   ],
   "source": [
    "#посмотрим информацию о таблице\n",
    "display(games.describe())\n",
    "display(games.info())\n",
    "print('Количество дубликатов:',games.duplicated().sum())\n",
    "pd.DataFrame(round(games.isna().mean()*100,1)).style.background_gradient('coolwarm')"
   ]
  },
  {
   "cell_type": "code",
   "execution_count": 5,
   "id": "e6bca0c6",
   "metadata": {},
   "outputs": [
    {
     "data": {
      "image/png": "[encoded data removed]",
      "text/plain": [
       "<Figure size 720x1080 with 6 Axes>"
      ]
     },
     "metadata": {
      "needs_background": "light"
     },
     "output_type": "display_data"
    }
   ],
   "source": [
    "#строим гистограмму\n",
    "games.hist(figsize=(10, 15))\n",
    "plt.show()"
   ]
  },
  {
   "cell_type": "markdown",
   "id": "4461d7b8",
   "metadata": {},
   "source": [
    "\n",
    "Видим что в загруженной таблице 16715 строчек\n",
    "1. Дубликаты отсутствуют\n",
    "2. В столбце Year_of_Release неверный тип даных+там присутствуют пропуски(1,6%), поменяем пропуски на 0 и заменим тип данных. \n",
    "3. В столбце user_score неверный тип данных+пропуски(40%), поменяем пропуски на 0 и изменим данных  \n",
    "4. Так же имеются пропуски в столбцах Critic_score(51%) и Rating(40%), оставим как есть покачто.  \n",
    "5. Необходимо привести названия столбцов к нижнему регистру\n"
   ]
  },
  {
   "cell_type": "markdown",
   "id": "8e711428",
   "metadata": {},
   "source": [
    "## Подготовьте данные"
   ]
  },
  {
   "cell_type": "markdown",
   "id": "95114785",
   "metadata": {},
   "source": [
    "### Приведем названия столбцов к нижнему регистру"
   ]
  },
  {
   "cell_type": "code",
   "execution_count": 6,
   "id": "96765dc4",
   "metadata": {},
   "outputs": [
    {
     "data": {
      "text/plain": [
       "Index(['name', 'platform', 'year_of_release', 'genre', 'na_sales', 'eu_sales',\n",
       "       'jp_sales', 'other_sales', 'critic_score', 'user_score', 'rating'],\n",
       "      dtype='object')"
      ]
     },
     "execution_count": 6,
     "metadata": {},
     "output_type": "execute_result"
    }
   ],
   "source": [
    "#приведем названия столбцов к нижнему регистру\n",
    "games.columns = games.columns.str.lower()\n",
    "games.columns"
   ]
  },
  {
   "cell_type": "markdown",
   "id": "80e2ded1",
   "metadata": {},
   "source": [
    "### Преобразуем данные в нужные типы"
   ]
  },
  {
   "cell_type": "code",
   "execution_count": 7,
   "id": "285c0dfc",
   "metadata": {},
   "outputs": [
    {
     "data": {
      "text/plain": [
       "count    16446.000000\n",
       "mean      2006.484616\n",
       "std          5.877050\n",
       "min       1980.000000\n",
       "25%       2003.000000\n",
       "50%       2007.000000\n",
       "75%       2010.000000\n",
       "max       2016.000000\n",
       "Name: year_of_release, dtype: float64"
      ]
     },
     "metadata": {},
     "output_type": "display_data"
    },
    {
     "data": {
      "text/plain": [
       "269"
      ]
     },
     "metadata": {},
     "output_type": "display_data"
    }
   ],
   "source": [
    "#смотрим столбец year_of_release\n",
    "display(games.year_of_release.describe())\n",
    "display(games.year_of_release.isna().sum())\n",
    "#меняем пропуски на 0\n",
    "games.year_of_release = games.year_of_release.fillna(0)\n",
    "#меняем тип данных\n",
    "games.year_of_release = games.year_of_release.astype('Int64')"
   ]
  },
  {
   "cell_type": "markdown",
   "id": "ed0349f8",
   "metadata": {},
   "source": [
    "Заменили пропуски на 0 и поменяли тип данных на int т.к. год не может быть дробным числом"
   ]
  },
  {
   "cell_type": "code",
   "execution_count": 8,
   "id": "83273151",
   "metadata": {},
   "outputs": [
    {
     "data": {
      "text/plain": [
       "count     10014\n",
       "unique       96\n",
       "top         tbd\n",
       "freq       2424\n",
       "Name: user_score, dtype: object"
      ]
     },
     "metadata": {},
     "output_type": "display_data"
    },
    {
     "data": {
      "text/plain": [
       "6701"
      ]
     },
     "metadata": {},
     "output_type": "display_data"
    }
   ],
   "source": [
    "#смотрим столбец user_score\n",
    "display(games.user_score.describe())\n",
    "display(games.user_score.isna().sum())\n",
    "#заменяем 1 из значениий столбца user_score на NaN, чтобы поменять тип данных\n",
    "games.loc[games['user_score'] == 'tbd','user_score'] = np.nan\n",
    "#меняем тип данных\n",
    "games.user_score = games.user_score.astype('float64')"
   ]
  },
  {
   "cell_type": "markdown",
   "id": "7764d6e0",
   "metadata": {},
   "source": [
    "Поменяли тип данных на float64 т.к. там в таблице дробные числа, с пропусками ничего не будем делать, быстро и правдоподобно их никак не заполнишь"
   ]
  },
  {
   "cell_type": "markdown",
   "id": "cdb9671d",
   "metadata": {},
   "source": [
    "### Обработка пропусков"
   ]
  },
  {
   "cell_type": "code",
   "execution_count": 9,
   "id": "79a9d37b",
   "metadata": {},
   "outputs": [
    {
     "data": {
      "text/plain": [
       "6766"
      ]
     },
     "metadata": {},
     "output_type": "display_data"
    },
    {
     "data": {
      "text/plain": [
       "8578"
      ]
     },
     "metadata": {},
     "output_type": "display_data"
    }
   ],
   "source": [
    "#смотрим количество пропусков столбцах rating и critic_score\n",
    "display(games.rating.isna().sum())\n",
    "display(games.critic_score.isna().sum())"
   ]
  },
  {
   "cell_type": "markdown",
   "id": "70cf195f",
   "metadata": {},
   "source": [
    "В обоих столбцах много пропусков, менять не будем т.к. правдоподобно их не заменить"
   ]
  },
  {
   "cell_type": "markdown",
   "id": "00c417f4",
   "metadata": {},
   "source": [
    "### Суммарные продажи во всех регионах"
   ]
  },
  {
   "cell_type": "code",
   "execution_count": 10,
   "id": "1a45ee03",
   "metadata": {},
   "outputs": [
    {
     "data": {
      "text/html": [
       "<div>\n",
       "<style scoped>\n",
       "    .dataframe tbody tr th:only-of-type {\n",
       "        vertical-align: middle;\n",
       "    }\n",
       "\n",
       "    .dataframe tbody tr th {\n",
       "        vertical-align: top;\n",
       "    }\n",
       "\n",
       "    .dataframe thead th {\n",
       "        text-align: right;\n",
       "    }\n",
       "</style>\n",
       "<table border=\"1\" class=\"dataframe\">\n",
       "  <thead>\n",
       "    <tr style=\"text-align: right;\">\n",
       "      <th></th>\n",
       "      <th>name</th>\n",
       "      <th>platform</th>\n",
       "      <th>year_of_release</th>\n",
       "      <th>genre</th>\n",
       "      <th>na_sales</th>\n",
       "      <th>eu_sales</th>\n",
       "      <th>jp_sales</th>\n",
       "      <th>other_sales</th>\n",
       "      <th>critic_score</th>\n",
       "      <th>user_score</th>\n",
       "      <th>rating</th>\n",
       "      <th>total_sales</th>\n",
       "    </tr>\n",
       "  </thead>\n",
       "  <tbody>\n",
       "    <tr>\n",
       "      <th>0</th>\n",
       "      <td>Wii Sports</td>\n",
       "      <td>Wii</td>\n",
       "      <td>2006</td>\n",
       "      <td>Sports</td>\n",
       "      <td>41.36</td>\n",
       "      <td>28.96</td>\n",
       "      <td>3.77</td>\n",
       "      <td>8.45</td>\n",
       "      <td>76.0</td>\n",
       "      <td>8.0</td>\n",
       "      <td>E</td>\n",
       "      <td>82.54</td>\n",
       "    </tr>\n",
       "    <tr>\n",
       "      <th>1</th>\n",
       "      <td>Super Mario Bros.</td>\n",
       "      <td>NES</td>\n",
       "      <td>1985</td>\n",
       "      <td>Platform</td>\n",
       "      <td>29.08</td>\n",
       "      <td>3.58</td>\n",
       "      <td>6.81</td>\n",
       "      <td>0.77</td>\n",
       "      <td>NaN</td>\n",
       "      <td>NaN</td>\n",
       "      <td>NaN</td>\n",
       "      <td>40.24</td>\n",
       "    </tr>\n",
       "    <tr>\n",
       "      <th>2</th>\n",
       "      <td>Mario Kart Wii</td>\n",
       "      <td>Wii</td>\n",
       "      <td>2008</td>\n",
       "      <td>Racing</td>\n",
       "      <td>15.68</td>\n",
       "      <td>12.76</td>\n",
       "      <td>3.79</td>\n",
       "      <td>3.29</td>\n",
       "      <td>82.0</td>\n",
       "      <td>8.3</td>\n",
       "      <td>E</td>\n",
       "      <td>35.52</td>\n",
       "    </tr>\n",
       "    <tr>\n",
       "      <th>3</th>\n",
       "      <td>Wii Sports Resort</td>\n",
       "      <td>Wii</td>\n",
       "      <td>2009</td>\n",
       "      <td>Sports</td>\n",
       "      <td>15.61</td>\n",
       "      <td>10.93</td>\n",
       "      <td>3.28</td>\n",
       "      <td>2.95</td>\n",
       "      <td>80.0</td>\n",
       "      <td>8.0</td>\n",
       "      <td>E</td>\n",
       "      <td>32.77</td>\n",
       "    </tr>\n",
       "    <tr>\n",
       "      <th>4</th>\n",
       "      <td>Pokemon Red/Pokemon Blue</td>\n",
       "      <td>GB</td>\n",
       "      <td>1996</td>\n",
       "      <td>Role-Playing</td>\n",
       "      <td>11.27</td>\n",
       "      <td>8.89</td>\n",
       "      <td>10.22</td>\n",
       "      <td>1.00</td>\n",
       "      <td>NaN</td>\n",
       "      <td>NaN</td>\n",
       "      <td>NaN</td>\n",
       "      <td>31.38</td>\n",
       "    </tr>\n",
       "  </tbody>\n",
       "</table>\n",
       "</div>"
      ],
      "text/plain": [
       "                       name platform  year_of_release         genre  na_sales  \\\n",
       "0                Wii Sports      Wii             2006        Sports     41.36   \n",
       "1         Super Mario Bros.      NES             1985      Platform     29.08   \n",
       "2            Mario Kart Wii      Wii             2008        Racing     15.68   \n",
       "3         Wii Sports Resort      Wii             2009        Sports     15.61   \n",
       "4  Pokemon Red/Pokemon Blue       GB             1996  Role-Playing     11.27   \n",
       "\n",
       "   eu_sales  jp_sales  other_sales  critic_score  user_score rating  \\\n",
       "0     28.96      3.77         8.45          76.0         8.0      E   \n",
       "1      3.58      6.81         0.77           NaN         NaN    NaN   \n",
       "2     12.76      3.79         3.29          82.0         8.3      E   \n",
       "3     10.93      3.28         2.95          80.0         8.0      E   \n",
       "4      8.89     10.22         1.00           NaN         NaN    NaN   \n",
       "\n",
       "   total_sales  \n",
       "0        82.54  \n",
       "1        40.24  \n",
       "2        35.52  \n",
       "3        32.77  \n",
       "4        31.38  "
      ]
     },
     "execution_count": 10,
     "metadata": {},
     "output_type": "execute_result"
    }
   ],
   "source": [
    "#добавляем столбец с суммарными продажами\n",
    "games['total_sales'] = games['na_sales']+games['jp_sales']+games['other_sales']+games['eu_sales']\n",
    "games.head()"
   ]
  },
  {
   "cell_type": "markdown",
   "id": "e82bf40a",
   "metadata": {},
   "source": [
    "1. Привели названия столбцов к нижнему регистру\n",
    "2. Заменили пропускив столбце year_of_release на 0 и поменяли тип данных на int т.к. год не может быть дробным числом  \n",
    "3. Поменяли в столбце user_score тип данных на float64 т.к. там в таблице дробные числа, с пропусками ничего не будем делать, быстро и правдоподобно их никак не заполнишь, так же в этом столбце заменили  значение 'tbd' на NaN  \n",
    "4. В столбцах rating и critic_score не меняем пропуски ни на что т.к. правдоподобно их не заменишь. \n",
    "5. Добавили столбец с суммарными продажами во всех регионах"
   ]
  },
  {
   "cell_type": "markdown",
   "id": "a3cc73b6",
   "metadata": {},
   "source": [
    "## Исследовательский анализ данных"
   ]
  },
  {
   "cell_type": "markdown",
   "id": "ee6c4916",
   "metadata": {},
   "source": [
    "### Сколько всего игр выпускалось в разные года"
   ]
  },
  {
   "cell_type": "code",
   "execution_count": 11,
   "id": "8a84c92a",
   "metadata": {},
   "outputs": [
    {
     "data": {
      "text/html": [
       "<div>\n",
       "<style scoped>\n",
       "    .dataframe tbody tr th:only-of-type {\n",
       "        vertical-align: middle;\n",
       "    }\n",
       "\n",
       "    .dataframe tbody tr th {\n",
       "        vertical-align: top;\n",
       "    }\n",
       "\n",
       "    .dataframe thead th {\n",
       "        text-align: right;\n",
       "    }\n",
       "</style>\n",
       "<table border=\"1\" class=\"dataframe\">\n",
       "  <thead>\n",
       "    <tr style=\"text-align: right;\">\n",
       "      <th></th>\n",
       "      <th>name</th>\n",
       "    </tr>\n",
       "    <tr>\n",
       "      <th>year_of_release</th>\n",
       "      <th></th>\n",
       "    </tr>\n",
       "  </thead>\n",
       "  <tbody>\n",
       "    <tr>\n",
       "      <th>2008</th>\n",
       "      <td>1427</td>\n",
       "    </tr>\n",
       "    <tr>\n",
       "      <th>2009</th>\n",
       "      <td>1426</td>\n",
       "    </tr>\n",
       "    <tr>\n",
       "      <th>2010</th>\n",
       "      <td>1255</td>\n",
       "    </tr>\n",
       "    <tr>\n",
       "      <th>2007</th>\n",
       "      <td>1197</td>\n",
       "    </tr>\n",
       "    <tr>\n",
       "      <th>2011</th>\n",
       "      <td>1136</td>\n",
       "    </tr>\n",
       "    <tr>\n",
       "      <th>2006</th>\n",
       "      <td>1006</td>\n",
       "    </tr>\n",
       "    <tr>\n",
       "      <th>2005</th>\n",
       "      <td>939</td>\n",
       "    </tr>\n",
       "    <tr>\n",
       "      <th>2002</th>\n",
       "      <td>829</td>\n",
       "    </tr>\n",
       "    <tr>\n",
       "      <th>2003</th>\n",
       "      <td>775</td>\n",
       "    </tr>\n",
       "    <tr>\n",
       "      <th>2004</th>\n",
       "      <td>762</td>\n",
       "    </tr>\n",
       "  </tbody>\n",
       "</table>\n",
       "</div>"
      ],
      "text/plain": [
       "                 name\n",
       "year_of_release      \n",
       "2008             1427\n",
       "2009             1426\n",
       "2010             1255\n",
       "2007             1197\n",
       "2011             1136\n",
       "2006             1006\n",
       "2005              939\n",
       "2002              829\n",
       "2003              775\n",
       "2004              762"
      ]
     },
     "metadata": {},
     "output_type": "display_data"
    },
    {
     "data": {
      "image/png": "[encoded data removed]",
      "text/plain": [
       "<Figure size 576x360 with 1 Axes>"
      ]
     },
     "metadata": {
      "needs_background": "light"
     },
     "output_type": "display_data"
    }
   ],
   "source": [
    "#строим сводную таблицу с количеством выпущенных игр по годам\n",
    "games_year = (\n",
    "    games.query('year_of_release > 0')\n",
    "    .pivot_table(index='year_of_release', \n",
    "                  values='name', \n",
    "                  aggfunc='count'))\n",
    "games_year.plot(kind='bar',figsize=(8,5), color='green')\n",
    "plt.title('Количество выпущенных игр в год')\n",
    "plt.xlabel('Год')\n",
    "plt.ylabel('Количество игр')\n",
    "display(games_year.sort_values('name',ascending=False).head(10))"
   ]
  },
  {
   "cell_type": "markdown",
   "id": "995dc406",
   "metadata": {},
   "source": [
    "1.После 2009 года пошел спад по продажам, возможно это связано с развитием копьютерных игр и больше доступности самого компьютера, а так же с развитие мобильных игр и так же с доступностью телефона  \n",
    "2.За все периоды данные не важны, а вот за последние лет 3-5 думаю важны"
   ]
  },
  {
   "cell_type": "markdown",
   "id": "1a7ef3db",
   "metadata": {},
   "source": [
    "### Как менялись продажи по платформам"
   ]
  },
  {
   "cell_type": "code",
   "execution_count": 12,
   "id": "0ad99d52",
   "metadata": {},
   "outputs": [
    {
     "data": {
      "image/png": "[encoded data removed]",
      "text/plain": [
       "<Figure size 720x360 with 1 Axes>"
      ]
     },
     "metadata": {
      "needs_background": "light"
     },
     "output_type": "display_data"
    },
    {
     "data": {
      "text/html": [
       "<div>\n",
       "<style scoped>\n",
       "    .dataframe tbody tr th:only-of-type {\n",
       "        vertical-align: middle;\n",
       "    }\n",
       "\n",
       "    .dataframe tbody tr th {\n",
       "        vertical-align: top;\n",
       "    }\n",
       "\n",
       "    .dataframe thead th {\n",
       "        text-align: right;\n",
       "    }\n",
       "</style>\n",
       "<table border=\"1\" class=\"dataframe\">\n",
       "  <thead>\n",
       "    <tr style=\"text-align: right;\">\n",
       "      <th></th>\n",
       "      <th>total_sales</th>\n",
       "    </tr>\n",
       "    <tr>\n",
       "      <th>platform</th>\n",
       "      <th></th>\n",
       "    </tr>\n",
       "  </thead>\n",
       "  <tbody>\n",
       "    <tr>\n",
       "      <th>PS2</th>\n",
       "      <td>1255.77</td>\n",
       "    </tr>\n",
       "    <tr>\n",
       "      <th>X360</th>\n",
       "      <td>971.42</td>\n",
       "    </tr>\n",
       "    <tr>\n",
       "      <th>PS3</th>\n",
       "      <td>939.65</td>\n",
       "    </tr>\n",
       "    <tr>\n",
       "      <th>Wii</th>\n",
       "      <td>907.51</td>\n",
       "    </tr>\n",
       "    <tr>\n",
       "      <th>DS</th>\n",
       "      <td>806.12</td>\n",
       "    </tr>\n",
       "    <tr>\n",
       "      <th>PS</th>\n",
       "      <td>730.86</td>\n",
       "    </tr>\n",
       "    <tr>\n",
       "      <th>GBA</th>\n",
       "      <td>317.85</td>\n",
       "    </tr>\n",
       "    <tr>\n",
       "      <th>PS4</th>\n",
       "      <td>314.14</td>\n",
       "    </tr>\n",
       "    <tr>\n",
       "      <th>PSP</th>\n",
       "      <td>294.05</td>\n",
       "    </tr>\n",
       "    <tr>\n",
       "      <th>PC</th>\n",
       "      <td>259.52</td>\n",
       "    </tr>\n",
       "  </tbody>\n",
       "</table>\n",
       "</div>"
      ],
      "text/plain": [
       "          total_sales\n",
       "platform             \n",
       "PS2           1255.77\n",
       "X360           971.42\n",
       "PS3            939.65\n",
       "Wii            907.51\n",
       "DS             806.12\n",
       "PS             730.86\n",
       "GBA            317.85\n",
       "PS4            314.14\n",
       "PSP            294.05\n",
       "PC             259.52"
      ]
     },
     "execution_count": 12,
     "metadata": {},
     "output_type": "execute_result"
    }
   ],
   "source": [
    "#строим сводную таблицу с общими продажами по платформам\n",
    "platform_sales = games.pivot_table(index='platform',\n",
    "                  values='total_sales',\n",
    "                  aggfunc=\"sum\").sort_values('total_sales', ascending=False)\n",
    "ax = platform_sales.plot(kind='bar',figsize=(10,5), color='green')\n",
    "plt.title('Количество выпущенных игр в год')\n",
    "plt.xlabel('Платформа')\n",
    "plt.ylabel('Количество продаж')\n",
    "#plt.bar_label(ax.containers[0], rotation='vertical')\n",
    "plt.show()\n",
    "platform_sales.head(10)"
   ]
  },
  {
   "cell_type": "code",
   "execution_count": 13,
   "id": "4d4e23ba",
   "metadata": {},
   "outputs": [],
   "source": [
    "#создадим список чтобы по нему потом срезать данные\n",
    "top10=['PS2','X360','PS3','Wii','DS','PS','GBA','PS4','PSP','PC']"
   ]
  },
  {
   "cell_type": "code",
   "execution_count": 14,
   "id": "59a838b2",
   "metadata": {},
   "outputs": [
    {
     "data": {
      "image/png": "[encoded data removed]",
      "text/plain": [
       "<Figure size 720x360 with 1 Axes>"
      ]
     },
     "metadata": {
      "needs_background": "light"
     },
     "output_type": "display_data"
    }
   ],
   "source": [
    "#срежем данные и построим сводную таблицу\n",
    "platform_sales_year = games.query('platform in @top10').pivot_table(index='year_of_release',\n",
    "                 columns='platform',\n",
    "                  values='total_sales',\n",
    "                  aggfunc=\"sum\")\n",
    "#удалим строку с годом 0\n",
    "platform_sales_year = platform_sales_year.drop([0])\n",
    "platform_sales_year.plot(figsize=(10,5),grid=True)\n",
    "plt.title('График продаж по платформам')\n",
    "plt.xlabel('Год')\n",
    "plt.ylabel('Количество продаж')\n",
    "#plt.bar_label(ax.containers[0], rotation='vertical')\n",
    "plt.show()"
   ]
  },
  {
   "cell_type": "markdown",
   "id": "4b474be3",
   "metadata": {},
   "source": [
    "Есть платформы, которые уже не продаются(GBA,PC2)  \n",
    "Есть платформы,которые продаются с 1985 года и по сей день(PC)  \n",
    "Представленные основные платформы были популярны около 10 лет. Но это рассуждение только по тем платформам, которые уже не продаются  \n",
    "Актуальный период возьмем 5 лет  "
   ]
  },
  {
   "cell_type": "markdown",
   "id": "77f8acfb",
   "metadata": {},
   "source": [
    "### Какие платформы лидируют по продажам, растут или падают?"
   ]
  },
  {
   "cell_type": "code",
   "execution_count": 15,
   "id": "128c8e16",
   "metadata": {},
   "outputs": [
    {
     "data": {
      "image/png": "[encoded data removed]",
      "text/plain": [
       "<Figure size 720x288 with 1 Axes>"
      ]
     },
     "metadata": {
      "needs_background": "light"
     },
     "output_type": "display_data"
    }
   ],
   "source": [
    "#срежем данные и построим сводную таблицу\n",
    "platform_actual = games.query('year_of_release >= 2012').pivot_table(index='year_of_release',\n",
    "                 columns='platform',\n",
    "                  values='total_sales',\n",
    "                  aggfunc=\"sum\")\n",
    "platform_actual.plot(figsize=(10,4),grid=True)\n",
    "plt.title('График продаж по платформам')\n",
    "plt.xlabel('Год')\n",
    "plt.ylabel('Количество продаж')\n",
    "plt.show()"
   ]
  },
  {
   "cell_type": "markdown",
   "id": "41ca0e30",
   "metadata": {},
   "source": [
    "Больше всего продаж у PS4 и XOne + они самые новые, только 4 года исполнится из прогнозируемых 10"
   ]
  },
  {
   "cell_type": "code",
   "execution_count": 16,
   "id": "9d7340d1",
   "metadata": {},
   "outputs": [
    {
     "data": {
      "text/html": [
       "<div>\n",
       "<style scoped>\n",
       "    .dataframe tbody tr th:only-of-type {\n",
       "        vertical-align: middle;\n",
       "    }\n",
       "\n",
       "    .dataframe tbody tr th {\n",
       "        vertical-align: top;\n",
       "    }\n",
       "\n",
       "    .dataframe thead th {\n",
       "        text-align: right;\n",
       "    }\n",
       "</style>\n",
       "<table border=\"1\" class=\"dataframe\">\n",
       "  <thead>\n",
       "    <tr style=\"text-align: right;\">\n",
       "      <th>platform</th>\n",
       "      <th>3DS</th>\n",
       "      <th>DS</th>\n",
       "      <th>PC</th>\n",
       "      <th>PS3</th>\n",
       "      <th>PS4</th>\n",
       "      <th>PSP</th>\n",
       "      <th>PSV</th>\n",
       "      <th>Wii</th>\n",
       "      <th>WiiU</th>\n",
       "      <th>X360</th>\n",
       "      <th>XOne</th>\n",
       "    </tr>\n",
       "    <tr>\n",
       "      <th>year_of_release</th>\n",
       "      <th></th>\n",
       "      <th></th>\n",
       "      <th></th>\n",
       "      <th></th>\n",
       "      <th></th>\n",
       "      <th></th>\n",
       "      <th></th>\n",
       "      <th></th>\n",
       "      <th></th>\n",
       "      <th></th>\n",
       "      <th></th>\n",
       "    </tr>\n",
       "  </thead>\n",
       "  <tbody>\n",
       "    <tr>\n",
       "      <th>2012</th>\n",
       "      <td>51.36</td>\n",
       "      <td>11.01</td>\n",
       "      <td>23.22</td>\n",
       "      <td>107.36</td>\n",
       "      <td>NaN</td>\n",
       "      <td>7.69</td>\n",
       "      <td>16.19</td>\n",
       "      <td>21.71</td>\n",
       "      <td>17.56</td>\n",
       "      <td>99.74</td>\n",
       "      <td>NaN</td>\n",
       "    </tr>\n",
       "    <tr>\n",
       "      <th>2013</th>\n",
       "      <td>56.57</td>\n",
       "      <td>1.54</td>\n",
       "      <td>12.38</td>\n",
       "      <td>113.25</td>\n",
       "      <td>25.99</td>\n",
       "      <td>3.14</td>\n",
       "      <td>10.59</td>\n",
       "      <td>8.59</td>\n",
       "      <td>21.65</td>\n",
       "      <td>88.58</td>\n",
       "      <td>18.96</td>\n",
       "    </tr>\n",
       "    <tr>\n",
       "      <th>2014</th>\n",
       "      <td>43.76</td>\n",
       "      <td>NaN</td>\n",
       "      <td>13.28</td>\n",
       "      <td>47.76</td>\n",
       "      <td>100.00</td>\n",
       "      <td>0.24</td>\n",
       "      <td>11.90</td>\n",
       "      <td>3.75</td>\n",
       "      <td>22.03</td>\n",
       "      <td>34.74</td>\n",
       "      <td>54.07</td>\n",
       "    </tr>\n",
       "    <tr>\n",
       "      <th>2015</th>\n",
       "      <td>27.78</td>\n",
       "      <td>NaN</td>\n",
       "      <td>8.52</td>\n",
       "      <td>16.82</td>\n",
       "      <td>118.90</td>\n",
       "      <td>0.12</td>\n",
       "      <td>6.25</td>\n",
       "      <td>1.14</td>\n",
       "      <td>16.35</td>\n",
       "      <td>11.96</td>\n",
       "      <td>60.14</td>\n",
       "    </tr>\n",
       "    <tr>\n",
       "      <th>2016</th>\n",
       "      <td>15.14</td>\n",
       "      <td>NaN</td>\n",
       "      <td>5.25</td>\n",
       "      <td>3.60</td>\n",
       "      <td>69.25</td>\n",
       "      <td>NaN</td>\n",
       "      <td>4.25</td>\n",
       "      <td>0.18</td>\n",
       "      <td>4.60</td>\n",
       "      <td>1.52</td>\n",
       "      <td>26.15</td>\n",
       "    </tr>\n",
       "  </tbody>\n",
       "</table>\n",
       "</div>"
      ],
      "text/plain": [
       "platform           3DS     DS     PC     PS3     PS4   PSP    PSV    Wii  \\\n",
       "year_of_release                                                            \n",
       "2012             51.36  11.01  23.22  107.36     NaN  7.69  16.19  21.71   \n",
       "2013             56.57   1.54  12.38  113.25   25.99  3.14  10.59   8.59   \n",
       "2014             43.76    NaN  13.28   47.76  100.00  0.24  11.90   3.75   \n",
       "2015             27.78    NaN   8.52   16.82  118.90  0.12   6.25   1.14   \n",
       "2016             15.14    NaN   5.25    3.60   69.25   NaN   4.25   0.18   \n",
       "\n",
       "platform          WiiU   X360   XOne  \n",
       "year_of_release                       \n",
       "2012             17.56  99.74    NaN  \n",
       "2013             21.65  88.58  18.96  \n",
       "2014             22.03  34.74  54.07  \n",
       "2015             16.35  11.96  60.14  \n",
       "2016              4.60   1.52  26.15  "
      ]
     },
     "execution_count": 16,
     "metadata": {},
     "output_type": "execute_result"
    }
   ],
   "source": [
    "platform_actual"
   ]
  },
  {
   "cell_type": "markdown",
   "id": "8cd863a9",
   "metadata": {},
   "source": [
    "### Постройте график «ящик с усами» по глобальным продажам игр в разбивке по платформам"
   ]
  },
  {
   "cell_type": "code",
   "execution_count": 17,
   "id": "f0e8c39a",
   "metadata": {},
   "outputs": [
    {
     "data": {
      "text/html": [
       "<div>\n",
       "<style scoped>\n",
       "    .dataframe tbody tr th:only-of-type {\n",
       "        vertical-align: middle;\n",
       "    }\n",
       "\n",
       "    .dataframe tbody tr th {\n",
       "        vertical-align: top;\n",
       "    }\n",
       "\n",
       "    .dataframe thead th {\n",
       "        text-align: right;\n",
       "    }\n",
       "</style>\n",
       "<table border=\"1\" class=\"dataframe\">\n",
       "  <thead>\n",
       "    <tr style=\"text-align: right;\">\n",
       "      <th></th>\n",
       "      <th>name</th>\n",
       "      <th>platform</th>\n",
       "      <th>year_of_release</th>\n",
       "      <th>genre</th>\n",
       "      <th>na_sales</th>\n",
       "      <th>eu_sales</th>\n",
       "      <th>jp_sales</th>\n",
       "      <th>other_sales</th>\n",
       "      <th>critic_score</th>\n",
       "      <th>user_score</th>\n",
       "      <th>rating</th>\n",
       "      <th>total_sales</th>\n",
       "    </tr>\n",
       "  </thead>\n",
       "  <tbody>\n",
       "    <tr>\n",
       "      <th>16</th>\n",
       "      <td>Grand Theft Auto V</td>\n",
       "      <td>PS3</td>\n",
       "      <td>2013</td>\n",
       "      <td>Action</td>\n",
       "      <td>7.02</td>\n",
       "      <td>9.09</td>\n",
       "      <td>0.98</td>\n",
       "      <td>3.96</td>\n",
       "      <td>97.0</td>\n",
       "      <td>8.2</td>\n",
       "      <td>M</td>\n",
       "      <td>21.05</td>\n",
       "    </tr>\n",
       "    <tr>\n",
       "      <th>23</th>\n",
       "      <td>Grand Theft Auto V</td>\n",
       "      <td>X360</td>\n",
       "      <td>2013</td>\n",
       "      <td>Action</td>\n",
       "      <td>9.66</td>\n",
       "      <td>5.14</td>\n",
       "      <td>0.06</td>\n",
       "      <td>1.41</td>\n",
       "      <td>97.0</td>\n",
       "      <td>8.1</td>\n",
       "      <td>M</td>\n",
       "      <td>16.27</td>\n",
       "    </tr>\n",
       "    <tr>\n",
       "      <th>31</th>\n",
       "      <td>Call of Duty: Black Ops 3</td>\n",
       "      <td>PS4</td>\n",
       "      <td>2015</td>\n",
       "      <td>Shooter</td>\n",
       "      <td>6.03</td>\n",
       "      <td>5.86</td>\n",
       "      <td>0.36</td>\n",
       "      <td>2.38</td>\n",
       "      <td>NaN</td>\n",
       "      <td>NaN</td>\n",
       "      <td>NaN</td>\n",
       "      <td>14.63</td>\n",
       "    </tr>\n",
       "    <tr>\n",
       "      <th>33</th>\n",
       "      <td>Pokemon X/Pokemon Y</td>\n",
       "      <td>3DS</td>\n",
       "      <td>2013</td>\n",
       "      <td>Role-Playing</td>\n",
       "      <td>5.28</td>\n",
       "      <td>4.19</td>\n",
       "      <td>4.35</td>\n",
       "      <td>0.78</td>\n",
       "      <td>NaN</td>\n",
       "      <td>NaN</td>\n",
       "      <td>NaN</td>\n",
       "      <td>14.60</td>\n",
       "    </tr>\n",
       "    <tr>\n",
       "      <th>34</th>\n",
       "      <td>Call of Duty: Black Ops II</td>\n",
       "      <td>PS3</td>\n",
       "      <td>2012</td>\n",
       "      <td>Shooter</td>\n",
       "      <td>4.99</td>\n",
       "      <td>5.73</td>\n",
       "      <td>0.65</td>\n",
       "      <td>2.42</td>\n",
       "      <td>83.0</td>\n",
       "      <td>5.3</td>\n",
       "      <td>M</td>\n",
       "      <td>13.79</td>\n",
       "    </tr>\n",
       "    <tr>\n",
       "      <th>...</th>\n",
       "      <td>...</td>\n",
       "      <td>...</td>\n",
       "      <td>...</td>\n",
       "      <td>...</td>\n",
       "      <td>...</td>\n",
       "      <td>...</td>\n",
       "      <td>...</td>\n",
       "      <td>...</td>\n",
       "      <td>...</td>\n",
       "      <td>...</td>\n",
       "      <td>...</td>\n",
       "      <td>...</td>\n",
       "    </tr>\n",
       "    <tr>\n",
       "      <th>16703</th>\n",
       "      <td>Strawberry Nauts</td>\n",
       "      <td>PSV</td>\n",
       "      <td>2016</td>\n",
       "      <td>Adventure</td>\n",
       "      <td>0.00</td>\n",
       "      <td>0.00</td>\n",
       "      <td>0.01</td>\n",
       "      <td>0.00</td>\n",
       "      <td>NaN</td>\n",
       "      <td>NaN</td>\n",
       "      <td>NaN</td>\n",
       "      <td>0.01</td>\n",
       "    </tr>\n",
       "    <tr>\n",
       "      <th>16707</th>\n",
       "      <td>Aiyoku no Eustia</td>\n",
       "      <td>PSV</td>\n",
       "      <td>2014</td>\n",
       "      <td>Misc</td>\n",
       "      <td>0.00</td>\n",
       "      <td>0.00</td>\n",
       "      <td>0.01</td>\n",
       "      <td>0.00</td>\n",
       "      <td>NaN</td>\n",
       "      <td>NaN</td>\n",
       "      <td>NaN</td>\n",
       "      <td>0.01</td>\n",
       "    </tr>\n",
       "    <tr>\n",
       "      <th>16710</th>\n",
       "      <td>Samurai Warriors: Sanada Maru</td>\n",
       "      <td>PS3</td>\n",
       "      <td>2016</td>\n",
       "      <td>Action</td>\n",
       "      <td>0.00</td>\n",
       "      <td>0.00</td>\n",
       "      <td>0.01</td>\n",
       "      <td>0.00</td>\n",
       "      <td>NaN</td>\n",
       "      <td>NaN</td>\n",
       "      <td>NaN</td>\n",
       "      <td>0.01</td>\n",
       "    </tr>\n",
       "    <tr>\n",
       "      <th>16712</th>\n",
       "      <td>Haitaka no Psychedelica</td>\n",
       "      <td>PSV</td>\n",
       "      <td>2016</td>\n",
       "      <td>Adventure</td>\n",
       "      <td>0.00</td>\n",
       "      <td>0.00</td>\n",
       "      <td>0.01</td>\n",
       "      <td>0.00</td>\n",
       "      <td>NaN</td>\n",
       "      <td>NaN</td>\n",
       "      <td>NaN</td>\n",
       "      <td>0.01</td>\n",
       "    </tr>\n",
       "    <tr>\n",
       "      <th>16714</th>\n",
       "      <td>Winning Post 8 2016</td>\n",
       "      <td>PSV</td>\n",
       "      <td>2016</td>\n",
       "      <td>Simulation</td>\n",
       "      <td>0.00</td>\n",
       "      <td>0.00</td>\n",
       "      <td>0.01</td>\n",
       "      <td>0.00</td>\n",
       "      <td>NaN</td>\n",
       "      <td>NaN</td>\n",
       "      <td>NaN</td>\n",
       "      <td>0.01</td>\n",
       "    </tr>\n",
       "  </tbody>\n",
       "</table>\n",
       "<p>2886 rows × 12 columns</p>\n",
       "</div>"
      ],
      "text/plain": [
       "                                name platform  year_of_release         genre  \\\n",
       "16                Grand Theft Auto V      PS3             2013        Action   \n",
       "23                Grand Theft Auto V     X360             2013        Action   \n",
       "31         Call of Duty: Black Ops 3      PS4             2015       Shooter   \n",
       "33               Pokemon X/Pokemon Y      3DS             2013  Role-Playing   \n",
       "34        Call of Duty: Black Ops II      PS3             2012       Shooter   \n",
       "...                              ...      ...              ...           ...   \n",
       "16703               Strawberry Nauts      PSV             2016     Adventure   \n",
       "16707               Aiyoku no Eustia      PSV             2014          Misc   \n",
       "16710  Samurai Warriors: Sanada Maru      PS3             2016        Action   \n",
       "16712        Haitaka no Psychedelica      PSV             2016     Adventure   \n",
       "16714            Winning Post 8 2016      PSV             2016    Simulation   \n",
       "\n",
       "       na_sales  eu_sales  jp_sales  other_sales  critic_score  user_score  \\\n",
       "16         7.02      9.09      0.98         3.96          97.0         8.2   \n",
       "23         9.66      5.14      0.06         1.41          97.0         8.1   \n",
       "31         6.03      5.86      0.36         2.38           NaN         NaN   \n",
       "33         5.28      4.19      4.35         0.78           NaN         NaN   \n",
       "34         4.99      5.73      0.65         2.42          83.0         5.3   \n",
       "...         ...       ...       ...          ...           ...         ...   \n",
       "16703      0.00      0.00      0.01         0.00           NaN         NaN   \n",
       "16707      0.00      0.00      0.01         0.00           NaN         NaN   \n",
       "16710      0.00      0.00      0.01         0.00           NaN         NaN   \n",
       "16712      0.00      0.00      0.01         0.00           NaN         NaN   \n",
       "16714      0.00      0.00      0.01         0.00           NaN         NaN   \n",
       "\n",
       "      rating  total_sales  \n",
       "16         M        21.05  \n",
       "23         M        16.27  \n",
       "31       NaN        14.63  \n",
       "33       NaN        14.60  \n",
       "34         M        13.79  \n",
       "...      ...          ...  \n",
       "16703    NaN         0.01  \n",
       "16707    NaN         0.01  \n",
       "16710    NaN         0.01  \n",
       "16712    NaN         0.01  \n",
       "16714    NaN         0.01  \n",
       "\n",
       "[2886 rows x 12 columns]"
      ]
     },
     "execution_count": 17,
     "metadata": {},
     "output_type": "execute_result"
    }
   ],
   "source": [
    "#сделаем новую таблицу с играми выпущенными после 2012 года\n",
    "games_2012 = games.query('year_of_release >= 2012')\n",
    "games_2012"
   ]
  },
  {
   "cell_type": "code",
   "execution_count": 18,
   "id": "547d51ea",
   "metadata": {},
   "outputs": [
    {
     "data": {
      "image/png": "[encoded data removed]",
      "text/plain": [
       "<Figure size 432x288 with 1 Axes>"
      ]
     },
     "metadata": {
      "needs_background": "light"
     },
     "output_type": "display_data"
    }
   ],
   "source": [
    "#срежем данные по платформе и построим ящик с усами\n",
    "games_2012_ps4 = (\n",
    "    games_2012.query('platform==\"PS4\"')\n",
    "    .boxplot(column='total_sales'))\n",
    "plt.title('Количество продаж PS4 от общего количества')\n",
    "plt.xlabel('PS4')\n",
    "plt.ylabel('Количество продаж')\n",
    "plt.show()"
   ]
  },
  {
   "cell_type": "markdown",
   "id": "b21a2355",
   "metadata": {},
   "source": [
    "Видим что в среднем продажи 1 игры приносят около 1 млн. долларов, но так же есть несколь игрк продажи которых принесли более 5 млн.долларов"
   ]
  },
  {
   "cell_type": "code",
   "execution_count": 19,
   "id": "5c580384",
   "metadata": {},
   "outputs": [
    {
     "data": {
      "image/png": "[encoded data removed]",
      "text/plain": [
       "<Figure size 432x288 with 1 Axes>"
      ]
     },
     "metadata": {
      "needs_background": "light"
     },
     "output_type": "display_data"
    }
   ],
   "source": [
    "#срежем данные по платформе и построим ящик с усами\n",
    "games_2012_xbox = (\n",
    "    games_2012.query('platform==\"XOne\"')\n",
    "    .boxplot(column='total_sales'))\n",
    "plt.title('Количество продаж XOne от общего количества')\n",
    "plt.xlabel('XOne')\n",
    "plt.ylabel('Количество продаж')\n",
    "plt.show()"
   ]
  },
  {
   "cell_type": "markdown",
   "id": "f6fb7bb7",
   "metadata": {},
   "source": [
    "В среднем продажи 1 игры на обеих платформах приносят около 1 млн. долларов, но так же есть несколько игр продажи которых принесли более 5 млн.долларов"
   ]
  },
  {
   "cell_type": "markdown",
   "id": "0b0c534c",
   "metadata": {},
   "source": [
    "### Посмотрите, как влияют на продажи внутри одной популярной платформы отзывы пользователей и критиков"
   ]
  },
  {
   "cell_type": "code",
   "execution_count": 20,
   "id": "37c3295c",
   "metadata": {},
   "outputs": [
    {
     "data": {
      "text/html": [
       "<div>\n",
       "<style scoped>\n",
       "    .dataframe tbody tr th:only-of-type {\n",
       "        vertical-align: middle;\n",
       "    }\n",
       "\n",
       "    .dataframe tbody tr th {\n",
       "        vertical-align: top;\n",
       "    }\n",
       "\n",
       "    .dataframe thead th {\n",
       "        text-align: right;\n",
       "    }\n",
       "</style>\n",
       "<table border=\"1\" class=\"dataframe\">\n",
       "  <thead>\n",
       "    <tr style=\"text-align: right;\">\n",
       "      <th></th>\n",
       "      <th>name</th>\n",
       "      <th>platform</th>\n",
       "      <th>year_of_release</th>\n",
       "      <th>genre</th>\n",
       "      <th>na_sales</th>\n",
       "      <th>eu_sales</th>\n",
       "      <th>jp_sales</th>\n",
       "      <th>other_sales</th>\n",
       "      <th>critic_score</th>\n",
       "      <th>user_score</th>\n",
       "      <th>rating</th>\n",
       "      <th>total_sales</th>\n",
       "    </tr>\n",
       "  </thead>\n",
       "  <tbody>\n",
       "    <tr>\n",
       "      <th>31</th>\n",
       "      <td>Call of Duty: Black Ops 3</td>\n",
       "      <td>PS4</td>\n",
       "      <td>2015</td>\n",
       "      <td>Shooter</td>\n",
       "      <td>6.03</td>\n",
       "      <td>5.86</td>\n",
       "      <td>0.36</td>\n",
       "      <td>2.38</td>\n",
       "      <td>NaN</td>\n",
       "      <td>NaN</td>\n",
       "      <td>NaN</td>\n",
       "      <td>14.63</td>\n",
       "    </tr>\n",
       "    <tr>\n",
       "      <th>42</th>\n",
       "      <td>Grand Theft Auto V</td>\n",
       "      <td>PS4</td>\n",
       "      <td>2014</td>\n",
       "      <td>Action</td>\n",
       "      <td>3.96</td>\n",
       "      <td>6.31</td>\n",
       "      <td>0.38</td>\n",
       "      <td>1.97</td>\n",
       "      <td>97.0</td>\n",
       "      <td>8.3</td>\n",
       "      <td>M</td>\n",
       "      <td>12.62</td>\n",
       "    </tr>\n",
       "    <tr>\n",
       "      <th>77</th>\n",
       "      <td>FIFA 16</td>\n",
       "      <td>PS4</td>\n",
       "      <td>2015</td>\n",
       "      <td>Sports</td>\n",
       "      <td>1.12</td>\n",
       "      <td>6.12</td>\n",
       "      <td>0.06</td>\n",
       "      <td>1.28</td>\n",
       "      <td>82.0</td>\n",
       "      <td>4.3</td>\n",
       "      <td>E</td>\n",
       "      <td>8.58</td>\n",
       "    </tr>\n",
       "    <tr>\n",
       "      <th>87</th>\n",
       "      <td>Star Wars Battlefront (2015)</td>\n",
       "      <td>PS4</td>\n",
       "      <td>2015</td>\n",
       "      <td>Shooter</td>\n",
       "      <td>2.99</td>\n",
       "      <td>3.49</td>\n",
       "      <td>0.22</td>\n",
       "      <td>1.28</td>\n",
       "      <td>NaN</td>\n",
       "      <td>NaN</td>\n",
       "      <td>NaN</td>\n",
       "      <td>7.98</td>\n",
       "    </tr>\n",
       "    <tr>\n",
       "      <th>92</th>\n",
       "      <td>Call of Duty: Advanced Warfare</td>\n",
       "      <td>PS4</td>\n",
       "      <td>2014</td>\n",
       "      <td>Shooter</td>\n",
       "      <td>2.81</td>\n",
       "      <td>3.48</td>\n",
       "      <td>0.14</td>\n",
       "      <td>1.23</td>\n",
       "      <td>83.0</td>\n",
       "      <td>5.7</td>\n",
       "      <td>M</td>\n",
       "      <td>7.66</td>\n",
       "    </tr>\n",
       "    <tr>\n",
       "      <th>94</th>\n",
       "      <td>FIFA 17</td>\n",
       "      <td>PS4</td>\n",
       "      <td>2016</td>\n",
       "      <td>Sports</td>\n",
       "      <td>0.66</td>\n",
       "      <td>5.75</td>\n",
       "      <td>0.08</td>\n",
       "      <td>1.11</td>\n",
       "      <td>85.0</td>\n",
       "      <td>5.0</td>\n",
       "      <td>E</td>\n",
       "      <td>7.60</td>\n",
       "    </tr>\n",
       "    <tr>\n",
       "      <th>105</th>\n",
       "      <td>Fallout 4</td>\n",
       "      <td>PS4</td>\n",
       "      <td>2015</td>\n",
       "      <td>Role-Playing</td>\n",
       "      <td>2.53</td>\n",
       "      <td>3.27</td>\n",
       "      <td>0.24</td>\n",
       "      <td>1.13</td>\n",
       "      <td>87.0</td>\n",
       "      <td>6.5</td>\n",
       "      <td>M</td>\n",
       "      <td>7.17</td>\n",
       "    </tr>\n",
       "    <tr>\n",
       "      <th>143</th>\n",
       "      <td>FIFA 15</td>\n",
       "      <td>PS4</td>\n",
       "      <td>2014</td>\n",
       "      <td>Sports</td>\n",
       "      <td>0.80</td>\n",
       "      <td>4.33</td>\n",
       "      <td>0.05</td>\n",
       "      <td>0.90</td>\n",
       "      <td>82.0</td>\n",
       "      <td>5.7</td>\n",
       "      <td>E</td>\n",
       "      <td>6.08</td>\n",
       "    </tr>\n",
       "    <tr>\n",
       "      <th>154</th>\n",
       "      <td>Destiny</td>\n",
       "      <td>PS4</td>\n",
       "      <td>2014</td>\n",
       "      <td>Shooter</td>\n",
       "      <td>2.49</td>\n",
       "      <td>2.07</td>\n",
       "      <td>0.16</td>\n",
       "      <td>0.92</td>\n",
       "      <td>76.0</td>\n",
       "      <td>6.1</td>\n",
       "      <td>T</td>\n",
       "      <td>5.64</td>\n",
       "    </tr>\n",
       "    <tr>\n",
       "      <th>171</th>\n",
       "      <td>Uncharted 4: A Thief's End</td>\n",
       "      <td>PS4</td>\n",
       "      <td>2016</td>\n",
       "      <td>Shooter</td>\n",
       "      <td>1.85</td>\n",
       "      <td>2.50</td>\n",
       "      <td>0.19</td>\n",
       "      <td>0.85</td>\n",
       "      <td>93.0</td>\n",
       "      <td>7.9</td>\n",
       "      <td>T</td>\n",
       "      <td>5.39</td>\n",
       "    </tr>\n",
       "  </tbody>\n",
       "</table>\n",
       "</div>"
      ],
      "text/plain": [
       "                               name platform  year_of_release         genre  \\\n",
       "31        Call of Duty: Black Ops 3      PS4             2015       Shooter   \n",
       "42               Grand Theft Auto V      PS4             2014        Action   \n",
       "77                          FIFA 16      PS4             2015        Sports   \n",
       "87     Star Wars Battlefront (2015)      PS4             2015       Shooter   \n",
       "92   Call of Duty: Advanced Warfare      PS4             2014       Shooter   \n",
       "94                          FIFA 17      PS4             2016        Sports   \n",
       "105                       Fallout 4      PS4             2015  Role-Playing   \n",
       "143                         FIFA 15      PS4             2014        Sports   \n",
       "154                         Destiny      PS4             2014       Shooter   \n",
       "171      Uncharted 4: A Thief's End      PS4             2016       Shooter   \n",
       "\n",
       "     na_sales  eu_sales  jp_sales  other_sales  critic_score  user_score  \\\n",
       "31       6.03      5.86      0.36         2.38           NaN         NaN   \n",
       "42       3.96      6.31      0.38         1.97          97.0         8.3   \n",
       "77       1.12      6.12      0.06         1.28          82.0         4.3   \n",
       "87       2.99      3.49      0.22         1.28           NaN         NaN   \n",
       "92       2.81      3.48      0.14         1.23          83.0         5.7   \n",
       "94       0.66      5.75      0.08         1.11          85.0         5.0   \n",
       "105      2.53      3.27      0.24         1.13          87.0         6.5   \n",
       "143      0.80      4.33      0.05         0.90          82.0         5.7   \n",
       "154      2.49      2.07      0.16         0.92          76.0         6.1   \n",
       "171      1.85      2.50      0.19         0.85          93.0         7.9   \n",
       "\n",
       "    rating  total_sales  \n",
       "31     NaN        14.63  \n",
       "42       M        12.62  \n",
       "77       E         8.58  \n",
       "87     NaN         7.98  \n",
       "92       M         7.66  \n",
       "94       E         7.60  \n",
       "105      M         7.17  \n",
       "143      E         6.08  \n",
       "154      T         5.64  \n",
       "171      T         5.39  "
      ]
     },
     "metadata": {},
     "output_type": "display_data"
    },
    {
     "data": {
      "image/png": "[encoded data removed]",
      "text/plain": [
       "<Figure size 432x288 with 1 Axes>"
      ]
     },
     "metadata": {
      "needs_background": "light"
     },
     "output_type": "display_data"
    },
    {
     "name": "stdout",
     "output_type": "stream",
     "text": [
      "Коэффициент корреляции равен: -0.03\n"
     ]
    }
   ],
   "source": [
    "#срез только по PS4\n",
    "playstation = games_2012.query('platform==\"PS4\"')\n",
    "display(playstation.head(10))\n",
    "#Корреляция между оценками пользователей и продажами \n",
    "playstation.plot.scatter(x='user_score', y='total_sales', grid=True,color='green')\n",
    "plt.title('Корреляция между оценками пользователей и продажами')\n",
    "plt.xlabel('Оценка пользователей')\n",
    "plt.ylabel('Всего продано')\n",
    "plt.show()\n",
    "print('Коэффициент корреляции равен:', (playstation['user_score'].corr(playstation['total_sales']).round(2)))"
   ]
  },
  {
   "cell_type": "code",
   "execution_count": 21,
   "id": "a14d9adc",
   "metadata": {},
   "outputs": [
    {
     "data": {
      "image/png": "[encoded data removed]",
      "text/plain": [
       "<Figure size 432x288 with 1 Axes>"
      ]
     },
     "metadata": {
      "needs_background": "light"
     },
     "output_type": "display_data"
    },
    {
     "name": "stdout",
     "output_type": "stream",
     "text": [
      "Коэффициент корреляции равен: 0.41\n"
     ]
    }
   ],
   "source": [
    "#Корреляция между оценками критиков и продажами \n",
    "playstation.plot.scatter(x='critic_score', y='total_sales', grid=True,color='green')\n",
    "plt.title('Корреляция между оценками пользователей и продажами')\n",
    "plt.xlabel('Оценка критиков')\n",
    "plt.ylabel('Всего продано')\n",
    "plt.show()\n",
    "print('Коэффициент корреляции равен:', (playstation['critic_score'].corr(playstation['total_sales']).round(2)))"
   ]
  },
  {
   "cell_type": "markdown",
   "id": "b7b009a1",
   "metadata": {},
   "source": [
    "1. Корелляция между оценками пользователей и продажами равна -0.03, зависимость отсутствует  \n",
    "2. Корелляция между оценками критиков и продажами равно 0.41, есть небольшая зависимость"
   ]
  },
  {
   "cell_type": "markdown",
   "id": "8fb0622d",
   "metadata": {},
   "source": [
    "### Соотнесем с продажами на другой платформе"
   ]
  },
  {
   "cell_type": "code",
   "execution_count": 22,
   "id": "f9b8569c",
   "metadata": {},
   "outputs": [
    {
     "data": {
      "text/html": [
       "<div>\n",
       "<style scoped>\n",
       "    .dataframe tbody tr th:only-of-type {\n",
       "        vertical-align: middle;\n",
       "    }\n",
       "\n",
       "    .dataframe tbody tr th {\n",
       "        vertical-align: top;\n",
       "    }\n",
       "\n",
       "    .dataframe thead th {\n",
       "        text-align: right;\n",
       "    }\n",
       "</style>\n",
       "<table border=\"1\" class=\"dataframe\">\n",
       "  <thead>\n",
       "    <tr style=\"text-align: right;\">\n",
       "      <th></th>\n",
       "      <th>name</th>\n",
       "      <th>platform</th>\n",
       "      <th>year_of_release</th>\n",
       "      <th>genre</th>\n",
       "      <th>na_sales</th>\n",
       "      <th>eu_sales</th>\n",
       "      <th>jp_sales</th>\n",
       "      <th>other_sales</th>\n",
       "      <th>critic_score</th>\n",
       "      <th>user_score</th>\n",
       "      <th>rating</th>\n",
       "      <th>total_sales</th>\n",
       "    </tr>\n",
       "  </thead>\n",
       "  <tbody>\n",
       "    <tr>\n",
       "      <th>99</th>\n",
       "      <td>Call of Duty: Black Ops 3</td>\n",
       "      <td>XOne</td>\n",
       "      <td>2015</td>\n",
       "      <td>Shooter</td>\n",
       "      <td>4.59</td>\n",
       "      <td>2.11</td>\n",
       "      <td>0.01</td>\n",
       "      <td>0.68</td>\n",
       "      <td>NaN</td>\n",
       "      <td>NaN</td>\n",
       "      <td>NaN</td>\n",
       "      <td>7.39</td>\n",
       "    </tr>\n",
       "    <tr>\n",
       "      <th>165</th>\n",
       "      <td>Grand Theft Auto V</td>\n",
       "      <td>XOne</td>\n",
       "      <td>2014</td>\n",
       "      <td>Action</td>\n",
       "      <td>2.81</td>\n",
       "      <td>2.19</td>\n",
       "      <td>0.00</td>\n",
       "      <td>0.47</td>\n",
       "      <td>97.0</td>\n",
       "      <td>7.9</td>\n",
       "      <td>M</td>\n",
       "      <td>5.47</td>\n",
       "    </tr>\n",
       "    <tr>\n",
       "      <th>179</th>\n",
       "      <td>Call of Duty: Advanced Warfare</td>\n",
       "      <td>XOne</td>\n",
       "      <td>2014</td>\n",
       "      <td>Shooter</td>\n",
       "      <td>3.22</td>\n",
       "      <td>1.55</td>\n",
       "      <td>0.01</td>\n",
       "      <td>0.48</td>\n",
       "      <td>81.0</td>\n",
       "      <td>5.4</td>\n",
       "      <td>M</td>\n",
       "      <td>5.26</td>\n",
       "    </tr>\n",
       "    <tr>\n",
       "      <th>242</th>\n",
       "      <td>Halo 5: Guardians</td>\n",
       "      <td>XOne</td>\n",
       "      <td>2015</td>\n",
       "      <td>Shooter</td>\n",
       "      <td>2.78</td>\n",
       "      <td>1.27</td>\n",
       "      <td>0.03</td>\n",
       "      <td>0.41</td>\n",
       "      <td>84.0</td>\n",
       "      <td>6.4</td>\n",
       "      <td>T</td>\n",
       "      <td>4.49</td>\n",
       "    </tr>\n",
       "    <tr>\n",
       "      <th>270</th>\n",
       "      <td>Fallout 4</td>\n",
       "      <td>XOne</td>\n",
       "      <td>2015</td>\n",
       "      <td>Role-Playing</td>\n",
       "      <td>2.51</td>\n",
       "      <td>1.32</td>\n",
       "      <td>0.01</td>\n",
       "      <td>0.38</td>\n",
       "      <td>88.0</td>\n",
       "      <td>6.2</td>\n",
       "      <td>M</td>\n",
       "      <td>4.22</td>\n",
       "    </tr>\n",
       "    <tr>\n",
       "      <th>342</th>\n",
       "      <td>Star Wars Battlefront (2015)</td>\n",
       "      <td>XOne</td>\n",
       "      <td>2015</td>\n",
       "      <td>Shooter</td>\n",
       "      <td>2.04</td>\n",
       "      <td>1.28</td>\n",
       "      <td>0.02</td>\n",
       "      <td>0.32</td>\n",
       "      <td>NaN</td>\n",
       "      <td>NaN</td>\n",
       "      <td>NaN</td>\n",
       "      <td>3.66</td>\n",
       "    </tr>\n",
       "    <tr>\n",
       "      <th>373</th>\n",
       "      <td>Assassin's Creed: Unity</td>\n",
       "      <td>XOne</td>\n",
       "      <td>2014</td>\n",
       "      <td>Action</td>\n",
       "      <td>2.27</td>\n",
       "      <td>0.90</td>\n",
       "      <td>0.00</td>\n",
       "      <td>0.33</td>\n",
       "      <td>72.0</td>\n",
       "      <td>4.1</td>\n",
       "      <td>M</td>\n",
       "      <td>3.50</td>\n",
       "    </tr>\n",
       "    <tr>\n",
       "      <th>398</th>\n",
       "      <td>Destiny</td>\n",
       "      <td>XOne</td>\n",
       "      <td>2014</td>\n",
       "      <td>Shooter</td>\n",
       "      <td>2.14</td>\n",
       "      <td>0.92</td>\n",
       "      <td>0.00</td>\n",
       "      <td>0.31</td>\n",
       "      <td>75.0</td>\n",
       "      <td>5.5</td>\n",
       "      <td>T</td>\n",
       "      <td>3.37</td>\n",
       "    </tr>\n",
       "    <tr>\n",
       "      <th>413</th>\n",
       "      <td>Gears of War: Ultimate Edition</td>\n",
       "      <td>XOne</td>\n",
       "      <td>2015</td>\n",
       "      <td>Shooter</td>\n",
       "      <td>2.61</td>\n",
       "      <td>0.33</td>\n",
       "      <td>0.00</td>\n",
       "      <td>0.34</td>\n",
       "      <td>82.0</td>\n",
       "      <td>7.5</td>\n",
       "      <td>M</td>\n",
       "      <td>3.28</td>\n",
       "    </tr>\n",
       "    <tr>\n",
       "      <th>417</th>\n",
       "      <td>FIFA 16</td>\n",
       "      <td>XOne</td>\n",
       "      <td>2015</td>\n",
       "      <td>Sports</td>\n",
       "      <td>0.89</td>\n",
       "      <td>2.12</td>\n",
       "      <td>0.00</td>\n",
       "      <td>0.24</td>\n",
       "      <td>84.0</td>\n",
       "      <td>4.4</td>\n",
       "      <td>E</td>\n",
       "      <td>3.25</td>\n",
       "    </tr>\n",
       "  </tbody>\n",
       "</table>\n",
       "</div>"
      ],
      "text/plain": [
       "                               name platform  year_of_release         genre  \\\n",
       "99        Call of Duty: Black Ops 3     XOne             2015       Shooter   \n",
       "165              Grand Theft Auto V     XOne             2014        Action   \n",
       "179  Call of Duty: Advanced Warfare     XOne             2014       Shooter   \n",
       "242               Halo 5: Guardians     XOne             2015       Shooter   \n",
       "270                       Fallout 4     XOne             2015  Role-Playing   \n",
       "342    Star Wars Battlefront (2015)     XOne             2015       Shooter   \n",
       "373         Assassin's Creed: Unity     XOne             2014        Action   \n",
       "398                         Destiny     XOne             2014       Shooter   \n",
       "413  Gears of War: Ultimate Edition     XOne             2015       Shooter   \n",
       "417                         FIFA 16     XOne             2015        Sports   \n",
       "\n",
       "     na_sales  eu_sales  jp_sales  other_sales  critic_score  user_score  \\\n",
       "99       4.59      2.11      0.01         0.68           NaN         NaN   \n",
       "165      2.81      2.19      0.00         0.47          97.0         7.9   \n",
       "179      3.22      1.55      0.01         0.48          81.0         5.4   \n",
       "242      2.78      1.27      0.03         0.41          84.0         6.4   \n",
       "270      2.51      1.32      0.01         0.38          88.0         6.2   \n",
       "342      2.04      1.28      0.02         0.32           NaN         NaN   \n",
       "373      2.27      0.90      0.00         0.33          72.0         4.1   \n",
       "398      2.14      0.92      0.00         0.31          75.0         5.5   \n",
       "413      2.61      0.33      0.00         0.34          82.0         7.5   \n",
       "417      0.89      2.12      0.00         0.24          84.0         4.4   \n",
       "\n",
       "    rating  total_sales  \n",
       "99     NaN         7.39  \n",
       "165      M         5.47  \n",
       "179      M         5.26  \n",
       "242      T         4.49  \n",
       "270      M         4.22  \n",
       "342    NaN         3.66  \n",
       "373      M         3.50  \n",
       "398      T         3.37  \n",
       "413      M         3.28  \n",
       "417      E         3.25  "
      ]
     },
     "metadata": {},
     "output_type": "display_data"
    },
    {
     "data": {
      "image/png": "[encoded data removed]",
      "text/plain": [
       "<Figure size 432x288 with 1 Axes>"
      ]
     },
     "metadata": {
      "needs_background": "light"
     },
     "output_type": "display_data"
    },
    {
     "name": "stdout",
     "output_type": "stream",
     "text": [
      "Коэффициент корреляции равен: -0.07\n"
     ]
    }
   ],
   "source": [
    "#срез только по xbox\n",
    "xbox = games_2012.query('platform==\"XOne\"')\n",
    "display(xbox.head(10))\n",
    "#Корреляция между оценками пользователей и продажами \n",
    "xbox.plot.scatter(x='user_score', y='total_sales', grid=True,color='green')\n",
    "plt.title('Корреляция между оценками пользователей и продажами')\n",
    "plt.xlabel('Оценка пользователей')\n",
    "plt.ylabel('Всего продано')\n",
    "plt.show()\n",
    "print('Коэффициент корреляции равен:', (xbox['user_score'].corr(xbox['total_sales']).round(2)))"
   ]
  },
  {
   "cell_type": "code",
   "execution_count": 23,
   "id": "5f6c83c1",
   "metadata": {},
   "outputs": [
    {
     "data": {
      "image/png": "[encoded data removed]",
      "text/plain": [
       "<Figure size 432x288 with 1 Axes>"
      ]
     },
     "metadata": {
      "needs_background": "light"
     },
     "output_type": "display_data"
    },
    {
     "name": "stdout",
     "output_type": "stream",
     "text": [
      "Коэффициент корреляции равен: 0.42\n"
     ]
    }
   ],
   "source": [
    "#Корреляция между оценками критиков и продажами \n",
    "xbox.plot.scatter(x='critic_score', y='total_sales', grid=True,color='green')\n",
    "plt.title('Корреляция между оценками пользователей и продажами')\n",
    "plt.xlabel('Оценка критиков')\n",
    "plt.ylabel('Всего продано')\n",
    "plt.show()\n",
    "print('Коэффициент корреляции равен:', (xbox['critic_score'].corr(xbox['total_sales']).round(2)))"
   ]
  },
  {
   "cell_type": "markdown",
   "id": "62d44344",
   "metadata": {},
   "source": [
    "1. Корелляция между оценками пользователей и продажами равна -0.07, зависимость отсутствует  \n",
    "2. Корелляция между оценками критиков и продажами равно 0.42, есть небольшая зависимость\n",
    "\n",
    "Из этого можно сделать вывод что продажи не зависят от оценок пользователей, но есть небольшая зависимость от оценок экспертов, можно это связать с тем что оценки пользователей не всегда объективны"
   ]
  },
  {
   "cell_type": "markdown",
   "id": "3e1706ae",
   "metadata": {},
   "source": [
    "### Посмотрите на общее распределение игр по жанрам. Что можно сказать о самых прибыльных жанрах?"
   ]
  },
  {
   "cell_type": "code",
   "execution_count": 24,
   "id": "4eb1cc9a",
   "metadata": {},
   "outputs": [
    {
     "data": {
      "image/png": "[encoded data removed]",
      "text/plain": [
       "<Figure size 648x360 with 1 Axes>"
      ]
     },
     "metadata": {
      "needs_background": "light"
     },
     "output_type": "display_data"
    },
    {
     "data": {
      "text/html": [
       "<div>\n",
       "<style scoped>\n",
       "    .dataframe tbody tr th:only-of-type {\n",
       "        vertical-align: middle;\n",
       "    }\n",
       "\n",
       "    .dataframe tbody tr th {\n",
       "        vertical-align: top;\n",
       "    }\n",
       "\n",
       "    .dataframe thead th {\n",
       "        text-align: right;\n",
       "    }\n",
       "</style>\n",
       "<table border=\"1\" class=\"dataframe\">\n",
       "  <thead>\n",
       "    <tr style=\"text-align: right;\">\n",
       "      <th></th>\n",
       "      <th>total_sales</th>\n",
       "    </tr>\n",
       "    <tr>\n",
       "      <th>genre</th>\n",
       "      <th></th>\n",
       "    </tr>\n",
       "  </thead>\n",
       "  <tbody>\n",
       "    <tr>\n",
       "      <th>Shooter</th>\n",
       "      <td>0.440</td>\n",
       "    </tr>\n",
       "    <tr>\n",
       "      <th>Sports</th>\n",
       "      <td>0.240</td>\n",
       "    </tr>\n",
       "    <tr>\n",
       "      <th>Platform</th>\n",
       "      <td>0.210</td>\n",
       "    </tr>\n",
       "    <tr>\n",
       "      <th>Racing</th>\n",
       "      <td>0.140</td>\n",
       "    </tr>\n",
       "    <tr>\n",
       "      <th>Role-Playing</th>\n",
       "      <td>0.140</td>\n",
       "    </tr>\n",
       "    <tr>\n",
       "      <th>Fighting</th>\n",
       "      <td>0.130</td>\n",
       "    </tr>\n",
       "    <tr>\n",
       "      <th>Action</th>\n",
       "      <td>0.120</td>\n",
       "    </tr>\n",
       "    <tr>\n",
       "      <th>Misc</th>\n",
       "      <td>0.120</td>\n",
       "    </tr>\n",
       "    <tr>\n",
       "      <th>Simulation</th>\n",
       "      <td>0.120</td>\n",
       "    </tr>\n",
       "    <tr>\n",
       "      <th>Strategy</th>\n",
       "      <td>0.080</td>\n",
       "    </tr>\n",
       "    <tr>\n",
       "      <th>Puzzle</th>\n",
       "      <td>0.045</td>\n",
       "    </tr>\n",
       "    <tr>\n",
       "      <th>Adventure</th>\n",
       "      <td>0.030</td>\n",
       "    </tr>\n",
       "  </tbody>\n",
       "</table>\n",
       "</div>"
      ],
      "text/plain": [
       "              total_sales\n",
       "genre                    \n",
       "Shooter             0.440\n",
       "Sports              0.240\n",
       "Platform            0.210\n",
       "Racing              0.140\n",
       "Role-Playing        0.140\n",
       "Fighting            0.130\n",
       "Action              0.120\n",
       "Misc                0.120\n",
       "Simulation          0.120\n",
       "Strategy            0.080\n",
       "Puzzle              0.045\n",
       "Adventure           0.030"
      ]
     },
     "metadata": {},
     "output_type": "display_data"
    }
   ],
   "source": [
    "#посмтроим сводную таблицу\n",
    "genre_sales = games_2012.pivot_table(index='genre', values='total_sales',aggfunc='median').sort_values('total_sales',ascending=False)\n",
    "#построим график\n",
    "ax = genre_sales.plot(kind='barh', color='green',figsize=(9,5) )\n",
    "#plt.bar_label(ax.containers[0])\n",
    "plt.title('Продажи по жанрам')\n",
    "plt.xlabel('Всего продано')\n",
    "plt.ylabel('Жанры')\n",
    "plt.show()\n",
    "display(genre_sales)"
   ]
  },
  {
   "cell_type": "markdown",
   "id": "6f6342d1",
   "metadata": {},
   "source": [
    "Больше всего продаж жанре шутер, спорт,платформеры и гонки, а меньше всего пазлы и приключения"
   ]
  },
  {
   "cell_type": "markdown",
   "id": "d53e33e2",
   "metadata": {},
   "source": [
    "**Вывод по разделу**  \n",
    "1. После 2009 года пошел спад по продажам, возможно это связано с развитием копьютерных игр и больше доступности самого компьютера, а так же с развитие мобильных игр и так же с доступностью телефона  \n",
    "2. За все периоды данные не важны, а вот за последние лет 3-5 думаю важны  \n",
    "4. Есть платформы, которые уже не продаются(GBA,PC2)  \n",
    "5. Есть платформы,которые продаются с 1985 года и по сей день(PC)  \n",
    "6. Представленные основные платформы были популярны около 10 лет. Но это рассуждение только по тем платформам, которые уже не продаются. Актуальный период возьмем 5 лет  \n",
    "7. Больше всего продаж у PS4 и XOne + они самые новые, только 4 года исполнится из прогнозируемых 10  \n",
    "8. В среднем продажи 1 игры на обеих платформах приносят около 1 млн. долларов, но так же есть несколько игр продажи которых принесли более 5 млн.долларов  \n",
    "9. Корелляция между оценками пользователей и продажами равна -0.03, зависимость отсутствует  \n",
    "10. Корелляция между оценками критиков и продажами равно 0.41, есть небольшая зависимость\n",
    "11. Больше всего продаж жанре экшн, шутер,rp,спорт, а меньше всего пазлы и стратегии"
   ]
  },
  {
   "cell_type": "markdown",
   "id": "a1097e9c",
   "metadata": {},
   "source": [
    "## Составьте портрет пользователя каждого региона"
   ]
  },
  {
   "cell_type": "code",
   "execution_count": 25,
   "id": "31f40fef",
   "metadata": {},
   "outputs": [
    {
     "data": {
      "text/html": [
       "<div>\n",
       "<style scoped>\n",
       "    .dataframe tbody tr th:only-of-type {\n",
       "        vertical-align: middle;\n",
       "    }\n",
       "\n",
       "    .dataframe tbody tr th {\n",
       "        vertical-align: top;\n",
       "    }\n",
       "\n",
       "    .dataframe thead th {\n",
       "        text-align: right;\n",
       "    }\n",
       "</style>\n",
       "<table border=\"1\" class=\"dataframe\">\n",
       "  <thead>\n",
       "    <tr style=\"text-align: right;\">\n",
       "      <th></th>\n",
       "      <th>name</th>\n",
       "      <th>platform</th>\n",
       "      <th>year_of_release</th>\n",
       "      <th>genre</th>\n",
       "      <th>na_sales</th>\n",
       "      <th>eu_sales</th>\n",
       "      <th>jp_sales</th>\n",
       "      <th>other_sales</th>\n",
       "      <th>critic_score</th>\n",
       "      <th>user_score</th>\n",
       "      <th>rating</th>\n",
       "      <th>total_sales</th>\n",
       "    </tr>\n",
       "  </thead>\n",
       "  <tbody>\n",
       "    <tr>\n",
       "      <th>16</th>\n",
       "      <td>Grand Theft Auto V</td>\n",
       "      <td>PS3</td>\n",
       "      <td>2013</td>\n",
       "      <td>Action</td>\n",
       "      <td>7.02</td>\n",
       "      <td>9.09</td>\n",
       "      <td>0.98</td>\n",
       "      <td>3.96</td>\n",
       "      <td>97.0</td>\n",
       "      <td>8.2</td>\n",
       "      <td>M</td>\n",
       "      <td>21.05</td>\n",
       "    </tr>\n",
       "    <tr>\n",
       "      <th>23</th>\n",
       "      <td>Grand Theft Auto V</td>\n",
       "      <td>X360</td>\n",
       "      <td>2013</td>\n",
       "      <td>Action</td>\n",
       "      <td>9.66</td>\n",
       "      <td>5.14</td>\n",
       "      <td>0.06</td>\n",
       "      <td>1.41</td>\n",
       "      <td>97.0</td>\n",
       "      <td>8.1</td>\n",
       "      <td>M</td>\n",
       "      <td>16.27</td>\n",
       "    </tr>\n",
       "    <tr>\n",
       "      <th>31</th>\n",
       "      <td>Call of Duty: Black Ops 3</td>\n",
       "      <td>PS4</td>\n",
       "      <td>2015</td>\n",
       "      <td>Shooter</td>\n",
       "      <td>6.03</td>\n",
       "      <td>5.86</td>\n",
       "      <td>0.36</td>\n",
       "      <td>2.38</td>\n",
       "      <td>NaN</td>\n",
       "      <td>NaN</td>\n",
       "      <td>NaN</td>\n",
       "      <td>14.63</td>\n",
       "    </tr>\n",
       "    <tr>\n",
       "      <th>33</th>\n",
       "      <td>Pokemon X/Pokemon Y</td>\n",
       "      <td>3DS</td>\n",
       "      <td>2013</td>\n",
       "      <td>Role-Playing</td>\n",
       "      <td>5.28</td>\n",
       "      <td>4.19</td>\n",
       "      <td>4.35</td>\n",
       "      <td>0.78</td>\n",
       "      <td>NaN</td>\n",
       "      <td>NaN</td>\n",
       "      <td>NaN</td>\n",
       "      <td>14.60</td>\n",
       "    </tr>\n",
       "    <tr>\n",
       "      <th>34</th>\n",
       "      <td>Call of Duty: Black Ops II</td>\n",
       "      <td>PS3</td>\n",
       "      <td>2012</td>\n",
       "      <td>Shooter</td>\n",
       "      <td>4.99</td>\n",
       "      <td>5.73</td>\n",
       "      <td>0.65</td>\n",
       "      <td>2.42</td>\n",
       "      <td>83.0</td>\n",
       "      <td>5.3</td>\n",
       "      <td>M</td>\n",
       "      <td>13.79</td>\n",
       "    </tr>\n",
       "    <tr>\n",
       "      <th>...</th>\n",
       "      <td>...</td>\n",
       "      <td>...</td>\n",
       "      <td>...</td>\n",
       "      <td>...</td>\n",
       "      <td>...</td>\n",
       "      <td>...</td>\n",
       "      <td>...</td>\n",
       "      <td>...</td>\n",
       "      <td>...</td>\n",
       "      <td>...</td>\n",
       "      <td>...</td>\n",
       "      <td>...</td>\n",
       "    </tr>\n",
       "    <tr>\n",
       "      <th>16703</th>\n",
       "      <td>Strawberry Nauts</td>\n",
       "      <td>PSV</td>\n",
       "      <td>2016</td>\n",
       "      <td>Adventure</td>\n",
       "      <td>0.00</td>\n",
       "      <td>0.00</td>\n",
       "      <td>0.01</td>\n",
       "      <td>0.00</td>\n",
       "      <td>NaN</td>\n",
       "      <td>NaN</td>\n",
       "      <td>NaN</td>\n",
       "      <td>0.01</td>\n",
       "    </tr>\n",
       "    <tr>\n",
       "      <th>16707</th>\n",
       "      <td>Aiyoku no Eustia</td>\n",
       "      <td>PSV</td>\n",
       "      <td>2014</td>\n",
       "      <td>Misc</td>\n",
       "      <td>0.00</td>\n",
       "      <td>0.00</td>\n",
       "      <td>0.01</td>\n",
       "      <td>0.00</td>\n",
       "      <td>NaN</td>\n",
       "      <td>NaN</td>\n",
       "      <td>NaN</td>\n",
       "      <td>0.01</td>\n",
       "    </tr>\n",
       "    <tr>\n",
       "      <th>16710</th>\n",
       "      <td>Samurai Warriors: Sanada Maru</td>\n",
       "      <td>PS3</td>\n",
       "      <td>2016</td>\n",
       "      <td>Action</td>\n",
       "      <td>0.00</td>\n",
       "      <td>0.00</td>\n",
       "      <td>0.01</td>\n",
       "      <td>0.00</td>\n",
       "      <td>NaN</td>\n",
       "      <td>NaN</td>\n",
       "      <td>NaN</td>\n",
       "      <td>0.01</td>\n",
       "    </tr>\n",
       "    <tr>\n",
       "      <th>16712</th>\n",
       "      <td>Haitaka no Psychedelica</td>\n",
       "      <td>PSV</td>\n",
       "      <td>2016</td>\n",
       "      <td>Adventure</td>\n",
       "      <td>0.00</td>\n",
       "      <td>0.00</td>\n",
       "      <td>0.01</td>\n",
       "      <td>0.00</td>\n",
       "      <td>NaN</td>\n",
       "      <td>NaN</td>\n",
       "      <td>NaN</td>\n",
       "      <td>0.01</td>\n",
       "    </tr>\n",
       "    <tr>\n",
       "      <th>16714</th>\n",
       "      <td>Winning Post 8 2016</td>\n",
       "      <td>PSV</td>\n",
       "      <td>2016</td>\n",
       "      <td>Simulation</td>\n",
       "      <td>0.00</td>\n",
       "      <td>0.00</td>\n",
       "      <td>0.01</td>\n",
       "      <td>0.00</td>\n",
       "      <td>NaN</td>\n",
       "      <td>NaN</td>\n",
       "      <td>NaN</td>\n",
       "      <td>0.01</td>\n",
       "    </tr>\n",
       "  </tbody>\n",
       "</table>\n",
       "<p>2886 rows × 12 columns</p>\n",
       "</div>"
      ],
      "text/plain": [
       "                                name platform  year_of_release         genre  \\\n",
       "16                Grand Theft Auto V      PS3             2013        Action   \n",
       "23                Grand Theft Auto V     X360             2013        Action   \n",
       "31         Call of Duty: Black Ops 3      PS4             2015       Shooter   \n",
       "33               Pokemon X/Pokemon Y      3DS             2013  Role-Playing   \n",
       "34        Call of Duty: Black Ops II      PS3             2012       Shooter   \n",
       "...                              ...      ...              ...           ...   \n",
       "16703               Strawberry Nauts      PSV             2016     Adventure   \n",
       "16707               Aiyoku no Eustia      PSV             2014          Misc   \n",
       "16710  Samurai Warriors: Sanada Maru      PS3             2016        Action   \n",
       "16712        Haitaka no Psychedelica      PSV             2016     Adventure   \n",
       "16714            Winning Post 8 2016      PSV             2016    Simulation   \n",
       "\n",
       "       na_sales  eu_sales  jp_sales  other_sales  critic_score  user_score  \\\n",
       "16         7.02      9.09      0.98         3.96          97.0         8.2   \n",
       "23         9.66      5.14      0.06         1.41          97.0         8.1   \n",
       "31         6.03      5.86      0.36         2.38           NaN         NaN   \n",
       "33         5.28      4.19      4.35         0.78           NaN         NaN   \n",
       "34         4.99      5.73      0.65         2.42          83.0         5.3   \n",
       "...         ...       ...       ...          ...           ...         ...   \n",
       "16703      0.00      0.00      0.01         0.00           NaN         NaN   \n",
       "16707      0.00      0.00      0.01         0.00           NaN         NaN   \n",
       "16710      0.00      0.00      0.01         0.00           NaN         NaN   \n",
       "16712      0.00      0.00      0.01         0.00           NaN         NaN   \n",
       "16714      0.00      0.00      0.01         0.00           NaN         NaN   \n",
       "\n",
       "      rating  total_sales  \n",
       "16         M        21.05  \n",
       "23         M        16.27  \n",
       "31       NaN        14.63  \n",
       "33       NaN        14.60  \n",
       "34         M        13.79  \n",
       "...      ...          ...  \n",
       "16703    NaN         0.01  \n",
       "16707    NaN         0.01  \n",
       "16710    NaN         0.01  \n",
       "16712    NaN         0.01  \n",
       "16714    NaN         0.01  \n",
       "\n",
       "[2886 rows x 12 columns]"
      ]
     },
     "execution_count": 25,
     "metadata": {},
     "output_type": "execute_result"
    }
   ],
   "source": [
    "games_2012"
   ]
  },
  {
   "cell_type": "code",
   "execution_count": 26,
   "id": "97d28efb",
   "metadata": {},
   "outputs": [
    {
     "data": {
      "image/png": "[encoded data removed]",
      "text/plain": [
       "<Figure size 504x504 with 1 Axes>"
      ]
     },
     "metadata": {},
     "output_type": "display_data"
    },
    {
     "data": {
      "image/png": "[encoded data removed]",
      "text/plain": [
       "<Figure size 504x504 with 1 Axes>"
      ]
     },
     "metadata": {},
     "output_type": "display_data"
    },
    {
     "data": {
      "image/png": "[encoded data removed]",
      "text/plain": [
       "<Figure size 504x504 with 1 Axes>"
      ]
     },
     "metadata": {},
     "output_type": "display_data"
    }
   ],
   "source": [
    "#сделаем сводные таблицу с платформами и регионами\n",
    "sales_na = games_2012.pivot_table(index='platform',\n",
    "                                  values='na_sales',\n",
    "                                  aggfunc='sum').sort_values('na_sales',ascending=False).head()\n",
    "sales_na.plot(kind='pie', subplots=True, figsize=(7, 7),autopct='%1.1f%%')\n",
    "sales_eu = games_2012.pivot_table(index='platform',\n",
    "                                  values='eu_sales',\n",
    "                                  aggfunc='sum').sort_values('eu_sales',ascending=False).head()\n",
    "sales_eu.plot(kind='pie', subplots=True, figsize=(7, 7),autopct='%1.1f%%')\n",
    "sales_jp = games_2012.pivot_table(index='platform',\n",
    "                                  values='jp_sales',\n",
    "                                  aggfunc='sum').sort_values('jp_sales',ascending=False).head()\n",
    "sales_jp.plot(kind='pie', subplots=True, figsize=(7, 7),autopct='%1.1f%%')\n",
    "plt.show()"
   ]
  },
  {
   "cell_type": "markdown",
   "id": "31c337bf",
   "metadata": {},
   "source": [
    "В Северной Америке популярнее всего Xbox360, в Европе-PS4, в Японии-3DS"
   ]
  },
  {
   "cell_type": "code",
   "execution_count": 27,
   "id": "53349500",
   "metadata": {},
   "outputs": [
    {
     "data": {
      "image/png": "[encoded data removed]",
      "text/plain": [
       "<Figure size 504x504 with 1 Axes>"
      ]
     },
     "metadata": {},
     "output_type": "display_data"
    },
    {
     "data": {
      "image/png": "[encoded data removed]",
      "text/plain": [
       "<Figure size 504x504 with 1 Axes>"
      ]
     },
     "metadata": {},
     "output_type": "display_data"
    },
    {
     "data": {
      "image/png": "[encoded data removed]",
      "text/plain": [
       "<Figure size 504x504 with 1 Axes>"
      ]
     },
     "metadata": {},
     "output_type": "display_data"
    }
   ],
   "source": [
    "#сделаем сводные таблицы с жанрами и регионами\n",
    "genre_na = games_2012.pivot_table(index='genre',\n",
    "                                  values='na_sales',\n",
    "                                  aggfunc='sum').sort_values('na_sales',ascending=False).head()\n",
    "genre_na.plot(kind='pie', subplots=True, figsize=(7, 7),autopct='%1.1f%%')\n",
    "genre_eu = games_2012.pivot_table(index='genre',\n",
    "                                  values='eu_sales',\n",
    "                                  aggfunc='sum').sort_values('eu_sales',ascending=False).head()\n",
    "genre_eu.plot(kind='pie', subplots=True, figsize=(7, 7),autopct='%1.1f%%')\n",
    "genre_jp = games_2012.pivot_table(index='genre',\n",
    "                                  values='jp_sales',\n",
    "                                  aggfunc='sum').sort_values('jp_sales',ascending=False).head()\n",
    "genre_jp.plot(kind='pie', subplots=True, figsize=(7, 7),autopct='%1.1f%%')\n",
    "plt.show()"
   ]
  },
  {
   "cell_type": "markdown",
   "id": "ff9aa553",
   "metadata": {},
   "source": [
    "В Северной Америке и Европе популярнее всего Экшн, а в Японии Role-playing"
   ]
  },
  {
   "cell_type": "code",
   "execution_count": 28,
   "id": "64760929",
   "metadata": {},
   "outputs": [
    {
     "data": {
      "image/png": "[encoded data removed]",
      "text/plain": [
       "<Figure size 504x504 with 1 Axes>"
      ]
     },
     "metadata": {},
     "output_type": "display_data"
    },
    {
     "data": {
      "image/png": "[encoded data removed]",
      "text/plain": [
       "<Figure size 504x504 with 1 Axes>"
      ]
     },
     "metadata": {},
     "output_type": "display_data"
    },
    {
     "data": {
      "image/png": "[encoded data removed]",
      "text/plain": [
       "<Figure size 504x504 with 1 Axes>"
      ]
     },
     "metadata": {},
     "output_type": "display_data"
    }
   ],
   "source": [
    "#сделаем сводные таблицы с рейтингом и регонами\n",
    "esrb_na = games_2012.pivot_table(index='rating',\n",
    "                                  values='na_sales',\n",
    "                                  aggfunc='sum').sort_values('na_sales',ascending=False).head()\n",
    "esrb_na.plot(kind='pie', subplots=True, figsize=(7, 7),autopct='%1.1f%%')\n",
    "esrb_eu = games_2012.pivot_table(index='rating',\n",
    "                                  values='eu_sales',\n",
    "                                  aggfunc='sum').sort_values('eu_sales',ascending=False).head()\n",
    "esrb_eu.plot(kind='pie', subplots=True, figsize=(7, 7),autopct='%1.1f%%')\n",
    "esrb_jp = games_2012.pivot_table(index='rating',\n",
    "                                  values='jp_sales',\n",
    "                                  aggfunc='sum').sort_values('jp_sales',ascending=False).head()\n",
    "esrb_jp.plot(kind='pie', subplots=True, figsize=(7, 7),autopct='%1.1f%%')\n",
    "plt.show()"
   ]
  },
  {
   "cell_type": "markdown",
   "id": "f24c99a3",
   "metadata": {},
   "source": [
    "**Сравнения по платформам**  \n",
    "- Северная Америка - в топе X360,PS4\n",
    "- Европа - PS4, PS3\n",
    "- Япония - 3DS,PS3  \n",
    "\n",
    "**Сравнения по жанрам**\n",
    "- Северная Америка - в топе Экшн, Шутер\n",
    "- Европа - в топе Экшн, Шутер\n",
    "- Япония - в топе RP, Экшн  \n",
    "\n",
    "**Сравнения по рейтинг ESRB**  \n",
    "- Севеная Америка -  в топе M,E  \n",
    "- Европа - в топе M,E  \n",
    "- Япония - в топе E, T    \n",
    "\n",
    "Северная америка и Европа очень похожи, топ платформы у них PS и XBox, жанры экшн и шутеры, рейтинг M и E, а в Японии топ платформы - 3DS и PS3, жанры - RP и экшн, рейтинг E и T.\n",
    "\n"
   ]
  },
  {
   "cell_type": "markdown",
   "id": "c3ec0a11",
   "metadata": {},
   "source": [
    " ## Проверьте гипотезы"
   ]
  },
  {
   "cell_type": "markdown",
   "id": "d1cfb407",
   "metadata": {},
   "source": [
    "### Средние пользовательские рейтинги платформ Xbox One и PC одинаковые"
   ]
  },
  {
   "cell_type": "markdown",
   "id": "7734f2ce",
   "metadata": {},
   "source": [
    "H0 = средние пользовательские рейтинги платформ Xbox One и PC равны.  \n",
    "H1 = средние пользовательские рейтинги платформ Xbox One и PC не равны.  \n",
    "alpha = 5%  \n",
    "Используем критерий Стьюдента - st.ttest_ind  "
   ]
  },
  {
   "cell_type": "code",
   "execution_count": 29,
   "id": "c8eea476",
   "metadata": {},
   "outputs": [
    {
     "data": {
      "text/plain": [
       "count    182.000000\n",
       "mean       6.521429\n",
       "std        1.380941\n",
       "min        1.600000\n",
       "25%        5.800000\n",
       "50%        6.800000\n",
       "75%        7.500000\n",
       "max        9.200000\n",
       "Name: user_score, dtype: float64"
      ]
     },
     "metadata": {},
     "output_type": "display_data"
    },
    {
     "data": {
      "text/plain": [
       "count    257.000000\n",
       "mean       6.748249\n",
       "std        1.459481\n",
       "min        1.500000\n",
       "25%        6.100000\n",
       "50%        7.000000\n",
       "75%        7.800000\n",
       "max        9.200000\n",
       "Name: user_score, dtype: float64"
      ]
     },
     "metadata": {},
     "output_type": "display_data"
    }
   ],
   "source": [
    "display(xbox.user_score.describe())\n",
    "display(playstation.user_score.describe())"
   ]
  },
  {
   "cell_type": "code",
   "execution_count": 30,
   "id": "005a7678",
   "metadata": {},
   "outputs": [
    {
     "name": "stdout",
     "output_type": "stream",
     "text": [
      "p-значение: 0.5535080500643661\n",
      "Не отвергаем нулевую гипотезу\n"
     ]
    }
   ],
   "source": [
    "pc = games_2012.query('platform==\"PC\"')\n",
    "#зададим aplha=5%\n",
    "alpha = 0.05 \n",
    "\n",
    "results = st.ttest_ind(xbox['user_score'].dropna(), pc['user_score'].dropna())\n",
    "\n",
    "print('p-значение:', results.pvalue)\n",
    "\n",
    "if (results.pvalue < alpha):\n",
    "    print('Отвергаем нулевую гипотезу')\n",
    "else:\n",
    "    print('Не отвергаем нулевую гипотезу') "
   ]
  },
  {
   "cell_type": "markdown",
   "id": "700f709f",
   "metadata": {},
   "source": [
    "Значение p равно 55%, нулевую гипотезу не отвергаем. Получается  55% шанс получить различные значения"
   ]
  },
  {
   "cell_type": "markdown",
   "id": "bd1e5ba1",
   "metadata": {},
   "source": [
    "### Средние пользовательские рейтинги жанров Action  и Sports разные."
   ]
  },
  {
   "cell_type": "markdown",
   "id": "5bb44ac7",
   "metadata": {},
   "source": [
    "H0 = средние пользовательские рейтинги жанров Action и Sports равны.  \n",
    "H1 = средние пользовательские рейтинги жанров Action и Sports не равны.  \n",
    "alpha = 5%  \n",
    "Используем критерий Стьюдента - st.ttest_ind  "
   ]
  },
  {
   "cell_type": "code",
   "execution_count": 31,
   "id": "91d31b4e",
   "metadata": {},
   "outputs": [
    {
     "data": {
      "text/plain": [
       "77       4.3\n",
       "94       5.0\n",
       "126      4.3\n",
       "143      5.7\n",
       "264      4.5\n",
       "        ... \n",
       "16146    6.9\n",
       "16230    5.5\n",
       "16450    4.5\n",
       "16518    1.4\n",
       "16643    6.6\n",
       "Name: user_score, Length: 195, dtype: float64"
      ]
     },
     "execution_count": 31,
     "metadata": {},
     "output_type": "execute_result"
    }
   ],
   "source": [
    "sports = games_2012.query('genre == \"Sports\"')['user_score'].dropna()\n",
    "sports"
   ]
  },
  {
   "cell_type": "code",
   "execution_count": 32,
   "id": "717b8c90",
   "metadata": {},
   "outputs": [
    {
     "data": {
      "text/plain": [
       "16       8.2\n",
       "23       8.1\n",
       "42       8.3\n",
       "81       6.6\n",
       "127      6.9\n",
       "        ... \n",
       "16597    6.0\n",
       "16652    8.5\n",
       "16654    5.1\n",
       "16660    6.7\n",
       "16692    7.6\n",
       "Name: user_score, Length: 523, dtype: float64"
      ]
     },
     "execution_count": 32,
     "metadata": {},
     "output_type": "execute_result"
    }
   ],
   "source": [
    "action = games_2012.query('genre == \"Action\"')['user_score'].dropna()\n",
    "action"
   ]
  },
  {
   "cell_type": "code",
   "execution_count": 33,
   "id": "94b68c74",
   "metadata": {},
   "outputs": [
    {
     "name": "stdout",
     "output_type": "stream",
     "text": [
      "p-значение: 3.7163089460934874e-26\n",
      "Отвергаем нулевую гипотезу\n"
     ]
    }
   ],
   "source": [
    "#зададим aplha=5%\n",
    "alpha = 0.05 \n",
    "results = st.ttest_ind(action,sports)\n",
    "print('p-значение:', results.pvalue)\n",
    "if (results.pvalue < alpha):\n",
    "    print('Отвергаем нулевую гипотезу')\n",
    "else:\n",
    "    print('Не отвергаем нулевую гипотезу') "
   ]
  },
  {
   "cell_type": "markdown",
   "id": "994ef53d",
   "metadata": {},
   "source": [
    "Отвергаем нулевую гипотезу, вероятность одинаковых значений крайне мала"
   ]
  },
  {
   "cell_type": "markdown",
   "id": "1e7ed603",
   "metadata": {},
   "source": [
    "## Вывод"
   ]
  },
  {
   "cell_type": "markdown",
   "id": "2987c7c9",
   "metadata": {},
   "source": [
    "**Откройте файл с данными и изучите общую информацию**    \n",
    "\n",
    "- В загруженной таблице 16715 строчек\n",
    "- Дубликаты отсутствуют\n",
    "- В столбце Year_of_Release неверный тип даных+там присутствуют пропуски(1,6%), поменяем пропуски на 0 и заменим тип данных. \n",
    "- В столбце user_score неверный тип данных+пропуски(40%), поменяем пропуски на 0 и изменим данных  \n",
    "- Так же имеются пропуски в столбцах Critic_score(51%) и Rating(40%), оставим как есть покачто.  \n",
    "- Необходимо привести названия столбцов к нижнему регистру  \n",
    "\n",
    "**Подготовьте данные**    \n",
    "\n",
    "- Привели названия столбцов к нижнему регистру  \n",
    "- Заменили пропускив столбце year_of_release на 0 и поменяли тип данных на int т.к. год не может быть дробным числом  Поменяли в столбце user_score тип данных на float64 т.к. там в таблице дробные числа, с пропусками ничего не будем делать, быстро и правдоподобно их никак не заполнишь, так же в этом столбце заменили  значение 'tbd' на NaN  \n",
    "- В столбцах rating и critic_score не меняем пропуски ни на что т.к. правдоподобно их не заменишь. \n",
    "- Добавили столбец с суммарными продажами во всех регионах  \n",
    "\n",
    "**Проведите исследовательский анализ данных**  \n",
    "\n",
    "- После 2009 года пошел спад по продажам, возможно это связано с развитием копьютерных игр и больше доступности самого компьютера, а так же с развитие мобильных игр и так же с доступностью телефона  \n",
    "- За все периоды данные не важны, а вот за последние лет 3-5 думаю важны  \n",
    "- Есть платформы, которые уже не продаются(GBA,PC2)  \n",
    "- Есть платформы,которые продаются с 1985 года и по сей день(PC)  \n",
    "- Представленные основные платформы были популярны около 10 лет. Но это рассуждение только по тем платформам, которые уже не продаются. Актуальный период возьмем 5 лет  \n",
    "- Больше всего продаж у PS4 и XOne + они самые новые, только 4 года исполнится из прогнозируемых 10  \n",
    "- В среднем продажи 1 игры на обеих платформах приносят около 1 млн. долларов, но так же есть несколько игр продажи которых принесли более 5 млн.долларов  \n",
    "- Корелляция между оценками пользователей и продажами равна -0.03, зависимость отсутствует  \n",
    "- Корелляция между оценками критиков и продажами равно 0.41, есть небольшая зависимость\n",
    "- Больше всего продаж жанре экшн, шутер,rp,спорт, а меньше всего пазлы и стратегии   \n",
    "\n",
    "**Составьте портрет пользователя каждого региона**  \n",
    "\n",
    "**Сравнения по платформам**  \n",
    "- Северная Америка - в топе X360,PS4\n",
    "- Европа - PS4, PS3\n",
    "- Япония - 3DS,PS3  \n",
    "\n",
    "**Сравнения по жанрам**\n",
    "- Северная Америка - в топе Экшн, Шутер\n",
    "- Европа - в топе Экшн, Шутер\n",
    "- Япония - в топе RP, Экшн  \n",
    "\n",
    "**Сравнения по рейтинг ESRB**  \n",
    "- Севеная Америка -  в топе M,E  \n",
    "- Европа - в топе M,E  \n",
    "- Япония - в топе E, T    \n",
    "\n",
    "Северная америка и Европа очень похожи, топ платформы у них PS и XBox, жанры экшн и шутеры, рейтинг M и E, а в Японии топ платформы - 3DS и PS3, жанры - RP и экшн, рейтинг E и T.\n",
    "\n",
    "\n",
    "**Проверьте гипотезы**  \n",
    "\n",
    "- H0 = средние пользовательские рейтинги платформ Xbox One и PC равны.  \n",
    "H1 = средние пользовательские рейтинги платформ Xbox One и PC не равны.  \n",
    "alpha = 5%  \n",
    "Значение p равно 55%, нулевую гипотезу не отвергаем. Получается  55% шанс получить различные значения\n",
    "- H0 = средние пользовательские рейтинги жанров Action и Sports равны.  \n",
    "H1 = средние пользовательские рейтинги жанров Action и Sports не равны.  \n",
    "alpha = 5%  \n",
    "Отвергаем нулевую гипотезу, вероятность одинаковых значений крайне мала"
   ]
  },
  {
   "cell_type": "code",
   "execution_count": null,
   "id": "55c58d42",
   "metadata": {},
   "outputs": [],
   "source": []
  }
 ],
 "metadata": {
  "ExecuteTimeLog": [
   {
    "duration": 1160,
    "start_time": "2024-03-21T19:22:48.212Z"
   },
   {
    "duration": 117,
    "start_time": "2024-03-21T19:22:49.374Z"
   },
   {
    "duration": 20,
    "start_time": "2024-03-21T19:22:49.492Z"
   },
   {
    "duration": 111,
    "start_time": "2024-03-21T19:22:49.514Z"
   },
   {
    "duration": 738,
    "start_time": "2024-03-21T19:22:49.627Z"
   },
   {
    "duration": 5,
    "start_time": "2024-03-21T19:22:50.367Z"
   },
   {
    "duration": 41,
    "start_time": "2024-03-21T19:22:50.373Z"
   },
   {
    "duration": 15,
    "start_time": "2024-03-21T19:22:50.415Z"
   },
   {
    "duration": 14,
    "start_time": "2024-03-21T19:22:50.431Z"
   },
   {
    "duration": 21,
    "start_time": "2024-03-21T19:22:50.448Z"
   },
   {
    "duration": 344,
    "start_time": "2024-03-21T19:22:50.470Z"
   },
   {
    "duration": 406,
    "start_time": "2024-03-21T19:22:50.816Z"
   },
   {
    "duration": 0,
    "start_time": "2024-03-21T19:22:51.224Z"
   },
   {
    "duration": 0,
    "start_time": "2024-03-21T19:22:51.225Z"
   },
   {
    "duration": 0,
    "start_time": "2024-03-21T19:22:51.227Z"
   },
   {
    "duration": 0,
    "start_time": "2024-03-21T19:22:51.227Z"
   },
   {
    "duration": 0,
    "start_time": "2024-03-21T19:22:51.229Z"
   },
   {
    "duration": 0,
    "start_time": "2024-03-21T19:22:51.230Z"
   },
   {
    "duration": 0,
    "start_time": "2024-03-21T19:22:51.231Z"
   },
   {
    "duration": 0,
    "start_time": "2024-03-21T19:22:51.232Z"
   },
   {
    "duration": 1,
    "start_time": "2024-03-21T19:22:51.233Z"
   },
   {
    "duration": 0,
    "start_time": "2024-03-21T19:22:51.235Z"
   },
   {
    "duration": 0,
    "start_time": "2024-03-21T19:22:51.259Z"
   },
   {
    "duration": 0,
    "start_time": "2024-03-21T19:22:51.260Z"
   },
   {
    "duration": 0,
    "start_time": "2024-03-21T19:22:51.261Z"
   },
   {
    "duration": 0,
    "start_time": "2024-03-21T19:22:51.263Z"
   },
   {
    "duration": 0,
    "start_time": "2024-03-21T19:22:51.264Z"
   },
   {
    "duration": 0,
    "start_time": "2024-03-21T19:22:51.265Z"
   },
   {
    "duration": 0,
    "start_time": "2024-03-21T19:22:51.266Z"
   },
   {
    "duration": 0,
    "start_time": "2024-03-21T19:22:51.267Z"
   },
   {
    "duration": 0,
    "start_time": "2024-03-21T19:22:51.269Z"
   },
   {
    "duration": 0,
    "start_time": "2024-03-21T19:22:51.270Z"
   },
   {
    "duration": 0,
    "start_time": "2024-03-21T19:22:51.271Z"
   },
   {
    "duration": 1126,
    "start_time": "2024-03-21T19:26:34.479Z"
   },
   {
    "duration": 109,
    "start_time": "2024-03-21T19:26:35.606Z"
   },
   {
    "duration": 18,
    "start_time": "2024-03-21T19:26:35.717Z"
   },
   {
    "duration": 101,
    "start_time": "2024-03-21T19:26:35.737Z"
   },
   {
    "duration": 812,
    "start_time": "2024-03-21T19:26:35.839Z"
   },
   {
    "duration": 9,
    "start_time": "2024-03-21T19:26:36.652Z"
   },
   {
    "duration": 28,
    "start_time": "2024-03-21T19:26:36.662Z"
   },
   {
    "duration": 15,
    "start_time": "2024-03-21T19:26:36.691Z"
   },
   {
    "duration": 10,
    "start_time": "2024-03-21T19:26:36.708Z"
   },
   {
    "duration": 30,
    "start_time": "2024-03-21T19:26:36.720Z"
   },
   {
    "duration": 362,
    "start_time": "2024-03-21T19:26:36.752Z"
   },
   {
    "duration": 424,
    "start_time": "2024-03-21T19:26:37.116Z"
   },
   {
    "duration": 0,
    "start_time": "2024-03-21T19:26:37.542Z"
   },
   {
    "duration": 0,
    "start_time": "2024-03-21T19:26:37.543Z"
   },
   {
    "duration": 0,
    "start_time": "2024-03-21T19:26:37.544Z"
   },
   {
    "duration": 0,
    "start_time": "2024-03-21T19:26:37.545Z"
   },
   {
    "duration": 0,
    "start_time": "2024-03-21T19:26:37.547Z"
   },
   {
    "duration": 0,
    "start_time": "2024-03-21T19:26:37.559Z"
   },
   {
    "duration": 0,
    "start_time": "2024-03-21T19:26:37.560Z"
   },
   {
    "duration": 0,
    "start_time": "2024-03-21T19:26:37.562Z"
   },
   {
    "duration": 0,
    "start_time": "2024-03-21T19:26:37.563Z"
   },
   {
    "duration": 0,
    "start_time": "2024-03-21T19:26:37.565Z"
   },
   {
    "duration": 0,
    "start_time": "2024-03-21T19:26:37.566Z"
   },
   {
    "duration": 0,
    "start_time": "2024-03-21T19:26:37.568Z"
   },
   {
    "duration": 0,
    "start_time": "2024-03-21T19:26:37.570Z"
   },
   {
    "duration": 0,
    "start_time": "2024-03-21T19:26:37.571Z"
   },
   {
    "duration": 0,
    "start_time": "2024-03-21T19:26:37.572Z"
   },
   {
    "duration": 0,
    "start_time": "2024-03-21T19:26:37.574Z"
   },
   {
    "duration": 0,
    "start_time": "2024-03-21T19:26:37.575Z"
   },
   {
    "duration": 0,
    "start_time": "2024-03-21T19:26:37.577Z"
   },
   {
    "duration": 0,
    "start_time": "2024-03-21T19:26:37.579Z"
   },
   {
    "duration": 0,
    "start_time": "2024-03-21T19:26:37.580Z"
   },
   {
    "duration": 0,
    "start_time": "2024-03-21T19:26:37.582Z"
   },
   {
    "duration": 51,
    "start_time": "2024-03-21T19:57:39.721Z"
   },
   {
    "duration": 1438,
    "start_time": "2024-03-21T19:57:51.000Z"
   },
   {
    "duration": 158,
    "start_time": "2024-03-21T19:57:52.440Z"
   },
   {
    "duration": 21,
    "start_time": "2024-03-21T19:57:52.599Z"
   },
   {
    "duration": 128,
    "start_time": "2024-03-21T19:57:52.622Z"
   },
   {
    "duration": 756,
    "start_time": "2024-03-21T19:57:52.752Z"
   },
   {
    "duration": 6,
    "start_time": "2024-03-21T19:57:53.510Z"
   },
   {
    "duration": 14,
    "start_time": "2024-03-21T19:57:53.518Z"
   },
   {
    "duration": 45,
    "start_time": "2024-03-21T19:57:53.534Z"
   },
   {
    "duration": 8,
    "start_time": "2024-03-21T19:57:53.581Z"
   },
   {
    "duration": 22,
    "start_time": "2024-03-21T19:57:53.592Z"
   },
   {
    "duration": 382,
    "start_time": "2024-03-21T19:57:53.616Z"
   },
   {
    "duration": 337,
    "start_time": "2024-03-21T19:57:53.999Z"
   },
   {
    "duration": 3,
    "start_time": "2024-03-21T19:57:54.338Z"
   },
   {
    "duration": 366,
    "start_time": "2024-03-21T19:57:54.343Z"
   },
   {
    "duration": 303,
    "start_time": "2024-03-21T19:57:54.712Z"
   },
   {
    "duration": 17,
    "start_time": "2024-03-21T19:57:55.017Z"
   },
   {
    "duration": 40,
    "start_time": "2024-03-21T19:57:55.036Z"
   },
   {
    "duration": 139,
    "start_time": "2024-03-21T19:57:55.078Z"
   },
   {
    "duration": 136,
    "start_time": "2024-03-21T19:57:55.218Z"
   },
   {
    "duration": 196,
    "start_time": "2024-03-21T19:57:55.356Z"
   },
   {
    "duration": 175,
    "start_time": "2024-03-21T19:57:55.554Z"
   },
   {
    "duration": 189,
    "start_time": "2024-03-21T19:57:55.730Z"
   },
   {
    "duration": 167,
    "start_time": "2024-03-21T19:57:55.921Z"
   },
   {
    "duration": 304,
    "start_time": "2024-03-21T19:57:56.089Z"
   },
   {
    "duration": 0,
    "start_time": "2024-03-21T19:57:56.395Z"
   },
   {
    "duration": 0,
    "start_time": "2024-03-21T19:57:56.396Z"
   },
   {
    "duration": 0,
    "start_time": "2024-03-21T19:57:56.397Z"
   },
   {
    "duration": 0,
    "start_time": "2024-03-21T19:57:56.398Z"
   },
   {
    "duration": 0,
    "start_time": "2024-03-21T19:57:56.399Z"
   },
   {
    "duration": 0,
    "start_time": "2024-03-21T19:57:56.400Z"
   },
   {
    "duration": 0,
    "start_time": "2024-03-21T19:57:56.401Z"
   },
   {
    "duration": 0,
    "start_time": "2024-03-21T19:57:56.402Z"
   },
   {
    "duration": 0,
    "start_time": "2024-03-21T19:57:56.403Z"
   },
   {
    "duration": 3,
    "start_time": "2024-03-21T19:58:28.444Z"
   },
   {
    "duration": 396,
    "start_time": "2024-03-21T19:58:28.893Z"
   },
   {
    "duration": 15,
    "start_time": "2024-03-21T19:58:29.664Z"
   },
   {
    "duration": 66,
    "start_time": "2024-03-21T19:58:30.613Z"
   },
   {
    "duration": 817,
    "start_time": "2024-03-21T19:58:31.602Z"
   },
   {
    "duration": 5,
    "start_time": "2024-03-21T19:58:34.819Z"
   },
   {
    "duration": 15,
    "start_time": "2024-03-21T19:58:36.091Z"
   },
   {
    "duration": 18,
    "start_time": "2024-03-21T19:58:37.045Z"
   },
   {
    "duration": 7,
    "start_time": "2024-03-21T19:58:38.656Z"
   },
   {
    "duration": 17,
    "start_time": "2024-03-21T19:58:39.883Z"
   },
   {
    "duration": 362,
    "start_time": "2024-03-21T19:58:44.035Z"
   },
   {
    "duration": 300,
    "start_time": "2024-03-21T19:59:10.994Z"
   },
   {
    "duration": 3,
    "start_time": "2024-03-21T19:59:34.138Z"
   },
   {
    "duration": 255,
    "start_time": "2024-03-21T19:59:34.864Z"
   },
   {
    "duration": 291,
    "start_time": "2024-03-21T19:59:37.534Z"
   },
   {
    "duration": 15,
    "start_time": "2024-03-21T19:59:38.943Z"
   },
   {
    "duration": 24,
    "start_time": "2024-03-21T19:59:40.024Z"
   },
   {
    "duration": 134,
    "start_time": "2024-03-21T19:59:40.766Z"
   },
   {
    "duration": 119,
    "start_time": "2024-03-21T19:59:42.354Z"
   },
   {
    "duration": 177,
    "start_time": "2024-03-21T19:59:44.272Z"
   },
   {
    "duration": 246,
    "start_time": "2024-03-21T19:59:44.908Z"
   },
   {
    "duration": 187,
    "start_time": "2024-03-21T19:59:46.904Z"
   },
   {
    "duration": 154,
    "start_time": "2024-03-21T19:59:47.591Z"
   },
   {
    "duration": 192,
    "start_time": "2024-03-21T20:00:01.463Z"
   },
   {
    "duration": 22,
    "start_time": "2024-03-21T20:00:09.555Z"
   },
   {
    "duration": 31,
    "start_time": "2024-03-21T20:00:10.176Z"
   },
   {
    "duration": 33,
    "start_time": "2024-03-21T20:00:11.624Z"
   },
   {
    "duration": 36,
    "start_time": "2024-03-21T20:00:12.679Z"
   },
   {
    "duration": 14,
    "start_time": "2024-03-21T20:00:14.931Z"
   },
   {
    "duration": 6,
    "start_time": "2024-03-21T20:00:15.495Z"
   },
   {
    "duration": 13,
    "start_time": "2024-03-21T20:00:17.276Z"
   },
   {
    "duration": 9,
    "start_time": "2024-03-21T20:00:27.624Z"
   },
   {
    "duration": 11,
    "start_time": "2024-03-21T20:00:28.620Z"
   },
   {
    "duration": 5,
    "start_time": "2024-03-21T20:00:29.747Z"
   },
   {
    "duration": 1178,
    "start_time": "2024-03-21T20:04:57.814Z"
   },
   {
    "duration": 182,
    "start_time": "2024-03-21T20:04:58.994Z"
   },
   {
    "duration": 19,
    "start_time": "2024-03-21T20:04:59.178Z"
   },
   {
    "duration": 114,
    "start_time": "2024-03-21T20:04:59.198Z"
   },
   {
    "duration": 720,
    "start_time": "2024-03-21T20:04:59.314Z"
   },
   {
    "duration": 5,
    "start_time": "2024-03-21T20:05:00.035Z"
   },
   {
    "duration": 58,
    "start_time": "2024-03-21T20:05:00.041Z"
   },
   {
    "duration": 87,
    "start_time": "2024-03-21T20:05:00.100Z"
   },
   {
    "duration": 51,
    "start_time": "2024-03-21T20:05:00.188Z"
   },
   {
    "duration": 40,
    "start_time": "2024-03-21T20:05:00.240Z"
   },
   {
    "duration": 414,
    "start_time": "2024-03-21T20:05:00.281Z"
   },
   {
    "duration": 312,
    "start_time": "2024-03-21T20:05:00.697Z"
   },
   {
    "duration": 2,
    "start_time": "2024-03-21T20:05:01.011Z"
   },
   {
    "duration": 457,
    "start_time": "2024-03-21T20:05:01.016Z"
   },
   {
    "duration": 309,
    "start_time": "2024-03-21T20:05:01.475Z"
   },
   {
    "duration": 16,
    "start_time": "2024-03-21T20:05:01.785Z"
   },
   {
    "duration": 155,
    "start_time": "2024-03-21T20:05:01.803Z"
   },
   {
    "duration": 260,
    "start_time": "2024-03-21T20:05:01.960Z"
   },
   {
    "duration": 157,
    "start_time": "2024-03-21T20:05:02.222Z"
   },
   {
    "duration": 192,
    "start_time": "2024-03-21T20:05:02.381Z"
   },
   {
    "duration": 176,
    "start_time": "2024-03-21T20:05:02.574Z"
   },
   {
    "duration": 173,
    "start_time": "2024-03-21T20:05:02.751Z"
   },
   {
    "duration": 168,
    "start_time": "2024-03-21T20:05:02.926Z"
   },
   {
    "duration": 211,
    "start_time": "2024-03-21T20:05:03.096Z"
   },
   {
    "duration": 24,
    "start_time": "2024-03-21T20:05:03.308Z"
   },
   {
    "duration": 57,
    "start_time": "2024-03-21T20:05:03.334Z"
   },
   {
    "duration": 39,
    "start_time": "2024-03-21T20:05:03.393Z"
   },
   {
    "duration": 61,
    "start_time": "2024-03-21T20:05:03.433Z"
   },
   {
    "duration": 15,
    "start_time": "2024-03-21T20:05:03.496Z"
   },
   {
    "duration": 9,
    "start_time": "2024-03-21T20:05:03.513Z"
   },
   {
    "duration": 15,
    "start_time": "2024-03-21T20:05:03.524Z"
   },
   {
    "duration": 33,
    "start_time": "2024-03-21T20:05:03.541Z"
   },
   {
    "duration": 5,
    "start_time": "2024-03-21T20:05:03.576Z"
   },
   {
    "duration": 1063,
    "start_time": "2024-03-22T12:40:59.484Z"
   },
   {
    "duration": 128,
    "start_time": "2024-03-22T12:41:00.549Z"
   },
   {
    "duration": 17,
    "start_time": "2024-03-22T12:41:00.679Z"
   },
   {
    "duration": 249,
    "start_time": "2024-03-22T12:41:00.698Z"
   },
   {
    "duration": 646,
    "start_time": "2024-03-22T12:41:00.949Z"
   },
   {
    "duration": 4,
    "start_time": "2024-03-22T12:41:01.597Z"
   },
   {
    "duration": 40,
    "start_time": "2024-03-22T12:41:01.603Z"
   },
   {
    "duration": 81,
    "start_time": "2024-03-22T12:41:01.644Z"
   },
   {
    "duration": 13,
    "start_time": "2024-03-22T12:41:01.727Z"
   },
   {
    "duration": 49,
    "start_time": "2024-03-22T12:41:01.743Z"
   },
   {
    "duration": 309,
    "start_time": "2024-03-22T12:41:01.793Z"
   },
   {
    "duration": 274,
    "start_time": "2024-03-22T12:41:02.104Z"
   },
   {
    "duration": 3,
    "start_time": "2024-03-22T12:41:02.380Z"
   },
   {
    "duration": 296,
    "start_time": "2024-03-22T12:41:02.385Z"
   },
   {
    "duration": 293,
    "start_time": "2024-03-22T12:41:02.682Z"
   },
   {
    "duration": 13,
    "start_time": "2024-03-22T12:41:02.977Z"
   },
   {
    "duration": 62,
    "start_time": "2024-03-22T12:41:02.992Z"
   },
   {
    "duration": 127,
    "start_time": "2024-03-22T12:41:03.056Z"
   },
   {
    "duration": 121,
    "start_time": "2024-03-22T12:41:03.185Z"
   },
   {
    "duration": 162,
    "start_time": "2024-03-22T12:41:03.308Z"
   },
   {
    "duration": 150,
    "start_time": "2024-03-22T12:41:03.472Z"
   },
   {
    "duration": 146,
    "start_time": "2024-03-22T12:41:03.623Z"
   },
   {
    "duration": 145,
    "start_time": "2024-03-22T12:41:03.770Z"
   },
   {
    "duration": 166,
    "start_time": "2024-03-22T12:41:03.916Z"
   },
   {
    "duration": 21,
    "start_time": "2024-03-22T12:41:04.083Z"
   },
   {
    "duration": 45,
    "start_time": "2024-03-22T12:41:04.105Z"
   },
   {
    "duration": 28,
    "start_time": "2024-03-22T12:41:04.151Z"
   },
   {
    "duration": 28,
    "start_time": "2024-03-22T12:41:04.182Z"
   },
   {
    "duration": 42,
    "start_time": "2024-03-22T12:41:04.211Z"
   },
   {
    "duration": 5,
    "start_time": "2024-03-22T12:41:04.255Z"
   },
   {
    "duration": 15,
    "start_time": "2024-03-22T12:41:04.261Z"
   },
   {
    "duration": 12,
    "start_time": "2024-03-22T12:41:04.278Z"
   },
   {
    "duration": 14,
    "start_time": "2024-03-22T12:41:04.292Z"
   },
   {
    "duration": 1055,
    "start_time": "2024-03-22T13:03:04.365Z"
   },
   {
    "duration": 256,
    "start_time": "2024-03-22T13:03:05.422Z"
   },
   {
    "duration": 17,
    "start_time": "2024-03-22T13:03:05.680Z"
   },
   {
    "duration": 104,
    "start_time": "2024-03-22T13:03:05.699Z"
   },
   {
    "duration": 674,
    "start_time": "2024-03-22T13:03:05.804Z"
   },
   {
    "duration": 4,
    "start_time": "2024-03-22T13:03:06.480Z"
   },
   {
    "duration": 27,
    "start_time": "2024-03-22T13:03:06.485Z"
   },
   {
    "duration": 14,
    "start_time": "2024-03-22T13:03:06.513Z"
   },
   {
    "duration": 19,
    "start_time": "2024-03-22T13:03:06.528Z"
   },
   {
    "duration": 14,
    "start_time": "2024-03-22T13:03:06.549Z"
   },
   {
    "duration": 313,
    "start_time": "2024-03-22T13:03:06.564Z"
   },
   {
    "duration": 267,
    "start_time": "2024-03-22T13:03:06.878Z"
   },
   {
    "duration": 2,
    "start_time": "2024-03-22T13:03:07.147Z"
   },
   {
    "duration": 322,
    "start_time": "2024-03-22T13:03:07.150Z"
   },
   {
    "duration": 293,
    "start_time": "2024-03-22T13:03:07.474Z"
   },
   {
    "duration": 13,
    "start_time": "2024-03-22T13:03:07.769Z"
   },
   {
    "duration": 20,
    "start_time": "2024-03-22T13:03:07.783Z"
   },
   {
    "duration": 122,
    "start_time": "2024-03-22T13:03:07.805Z"
   },
   {
    "duration": 104,
    "start_time": "2024-03-22T13:03:07.929Z"
   },
   {
    "duration": 159,
    "start_time": "2024-03-22T13:03:08.035Z"
   },
   {
    "duration": 152,
    "start_time": "2024-03-22T13:03:08.196Z"
   },
   {
    "duration": 171,
    "start_time": "2024-03-22T13:03:08.349Z"
   },
   {
    "duration": 148,
    "start_time": "2024-03-22T13:03:08.521Z"
   },
   {
    "duration": 214,
    "start_time": "2024-03-22T13:03:08.670Z"
   },
   {
    "duration": 21,
    "start_time": "2024-03-22T13:03:08.885Z"
   },
   {
    "duration": 47,
    "start_time": "2024-03-22T13:03:08.908Z"
   },
   {
    "duration": 36,
    "start_time": "2024-03-22T13:03:08.957Z"
   },
   {
    "duration": 25,
    "start_time": "2024-03-22T13:03:08.995Z"
   },
   {
    "duration": 9,
    "start_time": "2024-03-22T13:03:09.045Z"
   },
   {
    "duration": 5,
    "start_time": "2024-03-22T13:03:09.056Z"
   },
   {
    "duration": 21,
    "start_time": "2024-03-22T13:03:09.062Z"
   },
   {
    "duration": 10,
    "start_time": "2024-03-22T13:03:09.085Z"
   },
   {
    "duration": 7,
    "start_time": "2024-03-22T13:03:09.096Z"
   },
   {
    "duration": 9,
    "start_time": "2024-03-22T13:36:22.976Z"
   },
   {
    "duration": 10,
    "start_time": "2024-03-22T13:36:23.745Z"
   },
   {
    "duration": 5,
    "start_time": "2024-03-22T13:36:24.390Z"
   },
   {
    "duration": 70,
    "start_time": "2024-03-22T13:42:10.117Z"
   },
   {
    "duration": 1193,
    "start_time": "2024-03-22T13:44:26.258Z"
   },
   {
    "duration": 136,
    "start_time": "2024-03-22T13:44:27.454Z"
   },
   {
    "duration": 18,
    "start_time": "2024-03-22T13:44:27.591Z"
   },
   {
    "duration": 131,
    "start_time": "2024-03-22T13:44:27.610Z"
   },
   {
    "duration": 758,
    "start_time": "2024-03-22T13:44:27.747Z"
   },
   {
    "duration": 5,
    "start_time": "2024-03-22T13:44:28.506Z"
   },
   {
    "duration": 17,
    "start_time": "2024-03-22T13:44:28.512Z"
   },
   {
    "duration": 39,
    "start_time": "2024-03-22T13:44:28.530Z"
   },
   {
    "duration": 8,
    "start_time": "2024-03-22T13:44:28.571Z"
   },
   {
    "duration": 18,
    "start_time": "2024-03-22T13:44:28.580Z"
   },
   {
    "duration": 369,
    "start_time": "2024-03-22T13:44:28.599Z"
   },
   {
    "duration": 297,
    "start_time": "2024-03-22T13:44:28.970Z"
   },
   {
    "duration": 3,
    "start_time": "2024-03-22T13:44:29.268Z"
   },
   {
    "duration": 329,
    "start_time": "2024-03-22T13:44:29.274Z"
   },
   {
    "duration": 307,
    "start_time": "2024-03-22T13:44:29.605Z"
   },
   {
    "duration": 14,
    "start_time": "2024-03-22T13:44:29.914Z"
   },
   {
    "duration": 45,
    "start_time": "2024-03-22T13:44:29.929Z"
   },
   {
    "duration": 119,
    "start_time": "2024-03-22T13:44:29.976Z"
   },
   {
    "duration": 115,
    "start_time": "2024-03-22T13:44:30.097Z"
   },
   {
    "duration": 182,
    "start_time": "2024-03-22T13:44:30.213Z"
   },
   {
    "duration": 166,
    "start_time": "2024-03-22T13:44:30.397Z"
   },
   {
    "duration": 162,
    "start_time": "2024-03-22T13:44:30.565Z"
   },
   {
    "duration": 164,
    "start_time": "2024-03-22T13:44:30.728Z"
   },
   {
    "duration": 194,
    "start_time": "2024-03-22T13:44:30.894Z"
   },
   {
    "duration": 21,
    "start_time": "2024-03-22T13:44:31.090Z"
   },
   {
    "duration": 52,
    "start_time": "2024-03-22T13:44:31.112Z"
   },
   {
    "duration": 29,
    "start_time": "2024-03-22T13:44:31.165Z"
   },
   {
    "duration": 58,
    "start_time": "2024-03-22T13:44:31.196Z"
   },
   {
    "duration": 27,
    "start_time": "2024-03-22T13:44:31.256Z"
   },
   {
    "duration": 25,
    "start_time": "2024-03-22T13:44:31.285Z"
   },
   {
    "duration": 45,
    "start_time": "2024-03-22T13:44:31.312Z"
   },
   {
    "duration": 55,
    "start_time": "2024-03-22T13:44:31.360Z"
   },
   {
    "duration": 45,
    "start_time": "2024-03-22T13:44:31.417Z"
   },
   {
    "duration": 107,
    "start_time": "2024-03-22T14:36:55.723Z"
   },
   {
    "duration": 44,
    "start_time": "2024-03-22T14:37:01.265Z"
   },
   {
    "duration": 1327,
    "start_time": "2024-03-22T14:37:36.558Z"
   },
   {
    "duration": 129,
    "start_time": "2024-03-22T14:37:37.887Z"
   },
   {
    "duration": 20,
    "start_time": "2024-03-22T14:37:38.017Z"
   },
   {
    "duration": 117,
    "start_time": "2024-03-22T14:37:38.038Z"
   },
   {
    "duration": 680,
    "start_time": "2024-03-22T14:37:38.295Z"
   },
   {
    "duration": 5,
    "start_time": "2024-03-22T14:37:40.558Z"
   },
   {
    "duration": 13,
    "start_time": "2024-03-22T14:37:41.348Z"
   },
   {
    "duration": 16,
    "start_time": "2024-03-22T14:37:42.358Z"
   },
   {
    "duration": 9,
    "start_time": "2024-03-22T14:37:43.392Z"
   },
   {
    "duration": 17,
    "start_time": "2024-03-22T14:37:44.203Z"
   },
   {
    "duration": 317,
    "start_time": "2024-03-22T14:37:45.645Z"
   },
   {
    "duration": 330,
    "start_time": "2024-03-22T14:38:22.063Z"
   },
   {
    "duration": 1079,
    "start_time": "2024-03-22T15:45:33.384Z"
   },
   {
    "duration": 162,
    "start_time": "2024-03-22T15:45:34.464Z"
   },
   {
    "duration": 18,
    "start_time": "2024-03-22T15:45:34.627Z"
   },
   {
    "duration": 93,
    "start_time": "2024-03-22T15:45:34.646Z"
   },
   {
    "duration": 639,
    "start_time": "2024-03-22T15:45:34.741Z"
   },
   {
    "duration": 4,
    "start_time": "2024-03-22T15:45:35.381Z"
   },
   {
    "duration": 30,
    "start_time": "2024-03-22T15:45:35.387Z"
   },
   {
    "duration": 33,
    "start_time": "2024-03-22T15:45:35.419Z"
   },
   {
    "duration": 47,
    "start_time": "2024-03-22T15:45:35.454Z"
   },
   {
    "duration": 83,
    "start_time": "2024-03-22T15:45:35.502Z"
   },
   {
    "duration": 312,
    "start_time": "2024-03-22T15:45:35.586Z"
   },
   {
    "duration": 278,
    "start_time": "2024-03-22T15:45:35.900Z"
   },
   {
    "duration": 2,
    "start_time": "2024-03-22T15:45:36.180Z"
   },
   {
    "duration": 341,
    "start_time": "2024-03-22T15:45:36.184Z"
   },
   {
    "duration": 254,
    "start_time": "2024-03-22T15:45:36.526Z"
   },
   {
    "duration": 14,
    "start_time": "2024-03-22T15:45:36.781Z"
   },
   {
    "duration": 40,
    "start_time": "2024-03-22T15:45:36.796Z"
   },
   {
    "duration": 113,
    "start_time": "2024-03-22T15:45:36.838Z"
   },
   {
    "duration": 110,
    "start_time": "2024-03-22T15:45:36.952Z"
   },
   {
    "duration": 155,
    "start_time": "2024-03-22T15:45:37.069Z"
   },
   {
    "duration": 148,
    "start_time": "2024-03-22T15:45:37.226Z"
   },
   {
    "duration": 157,
    "start_time": "2024-03-22T15:45:37.375Z"
   },
   {
    "duration": 141,
    "start_time": "2024-03-22T15:45:37.534Z"
   },
   {
    "duration": 176,
    "start_time": "2024-03-22T15:45:37.677Z"
   },
   {
    "duration": 26,
    "start_time": "2024-03-22T15:45:37.854Z"
   },
   {
    "duration": 39,
    "start_time": "2024-03-22T15:45:37.882Z"
   },
   {
    "duration": 49,
    "start_time": "2024-03-22T15:45:37.923Z"
   },
   {
    "duration": 33,
    "start_time": "2024-03-22T15:45:37.974Z"
   },
   {
    "duration": 12,
    "start_time": "2024-03-22T15:45:38.008Z"
   },
   {
    "duration": 9,
    "start_time": "2024-03-22T15:45:38.021Z"
   },
   {
    "duration": 14,
    "start_time": "2024-03-22T15:45:38.031Z"
   },
   {
    "duration": 10,
    "start_time": "2024-03-22T15:45:38.070Z"
   },
   {
    "duration": 4,
    "start_time": "2024-03-22T15:45:38.081Z"
   },
   {
    "duration": 2,
    "start_time": "2024-03-22T15:45:42.394Z"
   },
   {
    "duration": 93,
    "start_time": "2024-03-22T15:45:42.710Z"
   },
   {
    "duration": 15,
    "start_time": "2024-03-22T15:45:42.861Z"
   },
   {
    "duration": 60,
    "start_time": "2024-03-22T15:45:43.029Z"
   },
   {
    "duration": 725,
    "start_time": "2024-03-22T15:45:43.404Z"
   },
   {
    "duration": 5,
    "start_time": "2024-03-22T15:45:44.508Z"
   },
   {
    "duration": 13,
    "start_time": "2024-03-22T15:45:44.561Z"
   },
   {
    "duration": 14,
    "start_time": "2024-03-22T15:45:45.073Z"
   },
   {
    "duration": 6,
    "start_time": "2024-03-22T15:45:45.692Z"
   },
   {
    "duration": 16,
    "start_time": "2024-03-22T15:45:46.362Z"
   },
   {
    "duration": 297,
    "start_time": "2024-03-22T15:45:47.238Z"
   },
   {
    "duration": 301,
    "start_time": "2024-03-22T15:45:56.441Z"
   },
   {
    "duration": 281,
    "start_time": "2024-03-22T15:45:59.710Z"
   },
   {
    "duration": 2,
    "start_time": "2024-03-22T15:46:00.730Z"
   },
   {
    "duration": 230,
    "start_time": "2024-03-22T15:46:01.332Z"
   },
   {
    "duration": 259,
    "start_time": "2024-03-22T15:46:03.428Z"
   },
   {
    "duration": 14,
    "start_time": "2024-03-22T15:46:04.511Z"
   },
   {
    "duration": 21,
    "start_time": "2024-03-22T15:46:05.341Z"
   },
   {
    "duration": 107,
    "start_time": "2024-03-22T15:46:05.839Z"
   },
   {
    "duration": 194,
    "start_time": "2024-03-22T15:46:06.905Z"
   },
   {
    "duration": 169,
    "start_time": "2024-03-22T15:46:08.998Z"
   },
   {
    "duration": 159,
    "start_time": "2024-03-22T15:46:09.755Z"
   },
   {
    "duration": 151,
    "start_time": "2024-03-22T15:46:11.906Z"
   },
   {
    "duration": 138,
    "start_time": "2024-03-22T15:46:12.575Z"
   },
   {
    "duration": 173,
    "start_time": "2024-03-22T15:46:16.222Z"
   },
   {
    "duration": 163,
    "start_time": "2024-03-22T15:46:43.809Z"
   },
   {
    "duration": 171,
    "start_time": "2024-03-22T15:46:51.846Z"
   },
   {
    "duration": 178,
    "start_time": "2024-03-22T15:48:04.256Z"
   },
   {
    "duration": 100,
    "start_time": "2024-03-22T15:48:17.733Z"
   },
   {
    "duration": 174,
    "start_time": "2024-03-22T15:48:23.167Z"
   },
   {
    "duration": 167,
    "start_time": "2024-03-22T15:48:48.548Z"
   },
   {
    "duration": 122,
    "start_time": "2024-03-22T15:51:31.526Z"
   },
   {
    "duration": 236,
    "start_time": "2024-03-22T16:06:21.210Z"
   },
   {
    "duration": 161,
    "start_time": "2024-03-22T16:07:20.994Z"
   },
   {
    "duration": 162,
    "start_time": "2024-03-22T16:08:42.823Z"
   },
   {
    "duration": 169,
    "start_time": "2024-03-22T16:08:50.328Z"
   },
   {
    "duration": 317,
    "start_time": "2024-03-22T16:16:10.278Z"
   },
   {
    "duration": 297,
    "start_time": "2024-03-22T16:18:03.466Z"
   },
   {
    "duration": 343,
    "start_time": "2024-03-22T16:18:22.056Z"
   },
   {
    "duration": 107,
    "start_time": "2024-03-22T16:23:33.390Z"
   },
   {
    "duration": 102,
    "start_time": "2024-03-22T16:23:38.357Z"
   },
   {
    "duration": 356,
    "start_time": "2024-03-22T16:24:32.030Z"
   },
   {
    "duration": 162,
    "start_time": "2024-03-22T16:26:02.995Z"
   },
   {
    "duration": 322,
    "start_time": "2024-03-22T16:26:16.355Z"
   },
   {
    "duration": 352,
    "start_time": "2024-03-22T16:26:36.475Z"
   },
   {
    "duration": 346,
    "start_time": "2024-03-22T16:26:42.317Z"
   },
   {
    "duration": 172,
    "start_time": "2024-03-22T16:27:15.362Z"
   },
   {
    "duration": 462,
    "start_time": "2024-03-22T16:27:24.108Z"
   },
   {
    "duration": 161,
    "start_time": "2024-03-22T16:31:13.610Z"
   },
   {
    "duration": 173,
    "start_time": "2024-03-22T16:31:31.801Z"
   },
   {
    "duration": 170,
    "start_time": "2024-03-22T16:31:41.855Z"
   },
   {
    "duration": 339,
    "start_time": "2024-03-22T16:35:27.702Z"
   },
   {
    "duration": 326,
    "start_time": "2024-03-22T16:37:33.808Z"
   },
   {
    "duration": 364,
    "start_time": "2024-03-22T16:38:02.766Z"
   },
   {
    "duration": 208,
    "start_time": "2024-03-22T16:38:40.133Z"
   },
   {
    "duration": 303,
    "start_time": "2024-03-22T16:38:56.889Z"
   },
   {
    "duration": 208,
    "start_time": "2024-03-22T16:39:50.564Z"
   },
   {
    "duration": 236,
    "start_time": "2024-03-22T16:40:07.400Z"
   },
   {
    "duration": 183,
    "start_time": "2024-03-22T16:40:48.370Z"
   },
   {
    "duration": 171,
    "start_time": "2024-03-22T16:41:05.671Z"
   },
   {
    "duration": 384,
    "start_time": "2024-03-22T16:45:17.772Z"
   },
   {
    "duration": 283,
    "start_time": "2024-03-22T16:45:21.326Z"
   },
   {
    "duration": 322,
    "start_time": "2024-03-22T16:45:28.211Z"
   },
   {
    "duration": 285,
    "start_time": "2024-03-22T16:50:03.276Z"
   },
   {
    "duration": 267,
    "start_time": "2024-03-22T16:50:20.288Z"
   },
   {
    "duration": 339,
    "start_time": "2024-03-22T16:52:00.761Z"
   },
   {
    "duration": 349,
    "start_time": "2024-03-22T16:52:08.845Z"
   },
   {
    "duration": 534,
    "start_time": "2024-03-22T16:52:47.064Z"
   },
   {
    "duration": 528,
    "start_time": "2024-03-22T16:53:06.398Z"
   },
   {
    "duration": 446,
    "start_time": "2024-03-22T16:53:48.958Z"
   },
   {
    "duration": 506,
    "start_time": "2024-03-22T16:53:54.879Z"
   },
   {
    "duration": 460,
    "start_time": "2024-03-22T16:54:17.752Z"
   },
   {
    "duration": 509,
    "start_time": "2024-03-22T17:00:48.153Z"
   },
   {
    "duration": 212,
    "start_time": "2024-03-22T17:01:08.401Z"
   },
   {
    "duration": 516,
    "start_time": "2024-03-22T17:01:26.208Z"
   },
   {
    "duration": 624,
    "start_time": "2024-03-22T17:01:34.345Z"
   },
   {
    "duration": 456,
    "start_time": "2024-03-22T17:02:27.144Z"
   },
   {
    "duration": 114,
    "start_time": "2024-03-22T17:05:12.986Z"
   },
   {
    "duration": 170,
    "start_time": "2024-03-22T17:05:33.632Z"
   },
   {
    "duration": 115,
    "start_time": "2024-03-22T17:05:44.032Z"
   },
   {
    "duration": 97,
    "start_time": "2024-03-22T17:06:17.918Z"
   },
   {
    "duration": 500,
    "start_time": "2024-03-22T17:06:24.405Z"
   },
   {
    "duration": 1214,
    "start_time": "2024-03-22T18:23:01.763Z"
   },
   {
    "duration": 545,
    "start_time": "2024-03-22T18:23:02.979Z"
   },
   {
    "duration": 21,
    "start_time": "2024-03-22T18:23:03.526Z"
   },
   {
    "duration": 98,
    "start_time": "2024-03-22T18:23:03.549Z"
   },
   {
    "duration": 736,
    "start_time": "2024-03-22T18:23:03.649Z"
   },
   {
    "duration": 6,
    "start_time": "2024-03-22T18:23:04.387Z"
   },
   {
    "duration": 18,
    "start_time": "2024-03-22T18:23:04.395Z"
   },
   {
    "duration": 22,
    "start_time": "2024-03-22T18:23:04.415Z"
   },
   {
    "duration": 35,
    "start_time": "2024-03-22T18:23:04.439Z"
   },
   {
    "duration": 26,
    "start_time": "2024-03-22T18:23:04.478Z"
   },
   {
    "duration": 351,
    "start_time": "2024-03-22T18:23:04.506Z"
   },
   {
    "duration": 293,
    "start_time": "2024-03-22T18:23:04.859Z"
   },
   {
    "duration": 2,
    "start_time": "2024-03-22T18:23:05.154Z"
   },
   {
    "duration": 407,
    "start_time": "2024-03-22T18:23:05.158Z"
   },
   {
    "duration": 283,
    "start_time": "2024-03-22T18:23:05.567Z"
   },
   {
    "duration": 21,
    "start_time": "2024-03-22T18:23:05.852Z"
   },
   {
    "duration": 35,
    "start_time": "2024-03-22T18:23:05.875Z"
   },
   {
    "duration": 115,
    "start_time": "2024-03-22T18:23:05.912Z"
   },
   {
    "duration": 129,
    "start_time": "2024-03-22T18:23:06.029Z"
   },
   {
    "duration": 188,
    "start_time": "2024-03-22T18:23:06.160Z"
   },
   {
    "duration": 166,
    "start_time": "2024-03-22T18:23:06.350Z"
   },
   {
    "duration": 171,
    "start_time": "2024-03-22T18:23:06.518Z"
   },
   {
    "duration": 172,
    "start_time": "2024-03-22T18:23:06.692Z"
   },
   {
    "duration": 230,
    "start_time": "2024-03-22T18:23:06.865Z"
   },
   {
    "duration": 31,
    "start_time": "2024-03-22T18:23:07.097Z"
   },
   {
    "duration": 580,
    "start_time": "2024-03-22T18:23:07.129Z"
   },
   {
    "duration": 674,
    "start_time": "2024-03-22T18:23:07.711Z"
   },
   {
    "duration": 497,
    "start_time": "2024-03-22T18:23:08.388Z"
   },
   {
    "duration": 14,
    "start_time": "2024-03-22T18:23:08.887Z"
   },
   {
    "duration": 121,
    "start_time": "2024-03-22T18:23:08.902Z"
   },
   {
    "duration": 0,
    "start_time": "2024-03-22T18:23:09.024Z"
   },
   {
    "duration": 0,
    "start_time": "2024-03-22T18:23:09.026Z"
   },
   {
    "duration": 0,
    "start_time": "2024-03-22T18:23:09.028Z"
   },
   {
    "duration": 21,
    "start_time": "2024-03-22T18:25:06.913Z"
   },
   {
    "duration": 8,
    "start_time": "2024-03-22T18:27:06.970Z"
   },
   {
    "duration": 10,
    "start_time": "2024-03-22T18:28:44.914Z"
   },
   {
    "duration": 103,
    "start_time": "2024-03-22T18:28:52.048Z"
   },
   {
    "duration": 12,
    "start_time": "2024-03-22T18:30:41.437Z"
   },
   {
    "duration": 12,
    "start_time": "2024-03-22T18:30:44.738Z"
   },
   {
    "duration": 6,
    "start_time": "2024-03-22T18:30:48.418Z"
   },
   {
    "duration": 10,
    "start_time": "2024-03-22T18:38:29.293Z"
   },
   {
    "duration": 6,
    "start_time": "2024-03-22T18:38:31.042Z"
   },
   {
    "duration": 5,
    "start_time": "2024-03-22T18:39:17.550Z"
   },
   {
    "duration": 10,
    "start_time": "2024-03-22T18:39:46.564Z"
   },
   {
    "duration": 9,
    "start_time": "2024-03-22T18:40:22.394Z"
   },
   {
    "duration": 9,
    "start_time": "2024-03-22T18:40:35.632Z"
   },
   {
    "duration": 12,
    "start_time": "2024-03-22T18:40:36.099Z"
   },
   {
    "duration": 5,
    "start_time": "2024-03-22T18:40:36.575Z"
   },
   {
    "duration": 1043,
    "start_time": "2024-03-23T13:51:40.202Z"
   },
   {
    "duration": 111,
    "start_time": "2024-03-23T13:51:41.247Z"
   },
   {
    "duration": 18,
    "start_time": "2024-03-23T13:51:41.359Z"
   },
   {
    "duration": 113,
    "start_time": "2024-03-23T13:51:41.379Z"
   },
   {
    "duration": 574,
    "start_time": "2024-03-23T13:51:41.494Z"
   },
   {
    "duration": 16,
    "start_time": "2024-03-23T13:51:42.070Z"
   },
   {
    "duration": 20,
    "start_time": "2024-03-23T13:51:42.088Z"
   },
   {
    "duration": 15,
    "start_time": "2024-03-23T13:51:42.109Z"
   },
   {
    "duration": 10,
    "start_time": "2024-03-23T13:51:42.126Z"
   },
   {
    "duration": 20,
    "start_time": "2024-03-23T13:51:42.138Z"
   },
   {
    "duration": 332,
    "start_time": "2024-03-23T13:51:42.160Z"
   },
   {
    "duration": 251,
    "start_time": "2024-03-23T13:51:42.494Z"
   },
   {
    "duration": 2,
    "start_time": "2024-03-23T13:51:42.747Z"
   },
   {
    "duration": 284,
    "start_time": "2024-03-23T13:51:42.752Z"
   },
   {
    "duration": 255,
    "start_time": "2024-03-23T13:51:43.038Z"
   },
   {
    "duration": 17,
    "start_time": "2024-03-23T13:51:43.295Z"
   },
   {
    "duration": 29,
    "start_time": "2024-03-23T13:51:43.314Z"
   },
   {
    "duration": 121,
    "start_time": "2024-03-23T13:51:43.344Z"
   },
   {
    "duration": 118,
    "start_time": "2024-03-23T13:51:43.466Z"
   },
   {
    "duration": 156,
    "start_time": "2024-03-23T13:51:43.586Z"
   },
   {
    "duration": 144,
    "start_time": "2024-03-23T13:51:43.743Z"
   },
   {
    "duration": 154,
    "start_time": "2024-03-23T13:51:43.888Z"
   },
   {
    "duration": 138,
    "start_time": "2024-03-23T13:51:44.044Z"
   },
   {
    "duration": 173,
    "start_time": "2024-03-23T13:51:44.183Z"
   },
   {
    "duration": 17,
    "start_time": "2024-03-23T13:51:44.358Z"
   },
   {
    "duration": 463,
    "start_time": "2024-03-23T13:51:44.376Z"
   },
   {
    "duration": 549,
    "start_time": "2024-03-23T13:51:44.840Z"
   },
   {
    "duration": 404,
    "start_time": "2024-03-23T13:51:45.390Z"
   },
   {
    "duration": 13,
    "start_time": "2024-03-23T13:51:45.796Z"
   },
   {
    "duration": 24,
    "start_time": "2024-03-23T13:51:45.810Z"
   },
   {
    "duration": 9,
    "start_time": "2024-03-23T13:51:45.835Z"
   },
   {
    "duration": 14,
    "start_time": "2024-03-23T13:51:45.845Z"
   },
   {
    "duration": 4,
    "start_time": "2024-03-23T13:51:45.860Z"
   },
   {
    "duration": 1070,
    "start_time": "2024-03-23T13:59:51.572Z"
   },
   {
    "duration": 96,
    "start_time": "2024-03-23T13:59:52.643Z"
   },
   {
    "duration": 15,
    "start_time": "2024-03-23T13:59:52.741Z"
   },
   {
    "duration": 91,
    "start_time": "2024-03-23T13:59:52.757Z"
   },
   {
    "duration": 565,
    "start_time": "2024-03-23T13:59:52.850Z"
   },
   {
    "duration": 5,
    "start_time": "2024-03-23T13:59:53.416Z"
   },
   {
    "duration": 19,
    "start_time": "2024-03-23T13:59:53.422Z"
   },
   {
    "duration": 13,
    "start_time": "2024-03-23T13:59:53.443Z"
   },
   {
    "duration": 7,
    "start_time": "2024-03-23T13:59:53.457Z"
   },
   {
    "duration": 27,
    "start_time": "2024-03-23T13:59:53.465Z"
   },
   {
    "duration": 276,
    "start_time": "2024-03-23T13:59:53.494Z"
   },
   {
    "duration": 243,
    "start_time": "2024-03-23T13:59:53.771Z"
   },
   {
    "duration": 2,
    "start_time": "2024-03-23T13:59:54.015Z"
   },
   {
    "duration": 270,
    "start_time": "2024-03-23T13:59:54.019Z"
   },
   {
    "duration": 243,
    "start_time": "2024-03-23T13:59:54.290Z"
   },
   {
    "duration": 11,
    "start_time": "2024-03-23T13:59:54.534Z"
   },
   {
    "duration": 34,
    "start_time": "2024-03-23T13:59:54.547Z"
   },
   {
    "duration": 106,
    "start_time": "2024-03-23T13:59:54.582Z"
   },
   {
    "duration": 104,
    "start_time": "2024-03-23T13:59:54.689Z"
   },
   {
    "duration": 153,
    "start_time": "2024-03-23T13:59:54.795Z"
   },
   {
    "duration": 144,
    "start_time": "2024-03-23T13:59:54.950Z"
   },
   {
    "duration": 151,
    "start_time": "2024-03-23T13:59:55.095Z"
   },
   {
    "duration": 126,
    "start_time": "2024-03-23T13:59:55.247Z"
   },
   {
    "duration": 160,
    "start_time": "2024-03-23T13:59:55.375Z"
   },
   {
    "duration": 18,
    "start_time": "2024-03-23T13:59:55.536Z"
   },
   {
    "duration": 459,
    "start_time": "2024-03-23T13:59:55.555Z"
   },
   {
    "duration": 536,
    "start_time": "2024-03-23T13:59:56.016Z"
   },
   {
    "duration": 392,
    "start_time": "2024-03-23T13:59:56.554Z"
   },
   {
    "duration": 10,
    "start_time": "2024-03-23T13:59:56.948Z"
   },
   {
    "duration": 8,
    "start_time": "2024-03-23T13:59:56.960Z"
   },
   {
    "duration": 11,
    "start_time": "2024-03-23T13:59:56.969Z"
   },
   {
    "duration": 25,
    "start_time": "2024-03-23T13:59:56.982Z"
   },
   {
    "duration": 4,
    "start_time": "2024-03-23T13:59:57.009Z"
   }
  ],
  "kernelspec": {
   "display_name": "Python 3 (ipykernel)",
   "language": "python",
   "name": "python3"
  },
  "language_info": {
   "codemirror_mode": {
    "name": "ipython",
    "version": 3
   },
   "file_extension": ".py",
   "mimetype": "text/x-python",
   "name": "python",
   "nbconvert_exporter": "python",
   "pygments_lexer": "ipython3",
   "version": "3.11.5"
  },
  "toc": {
   "base_numbering": 1,
   "nav_menu": {},
   "number_sections": true,
   "sideBar": true,
   "skip_h1_title": true,
   "title_cell": "Содержание",
   "title_sidebar": "Contents",
   "toc_cell": true,
   "toc_position": {},
   "toc_section_display": true,
   "toc_window_display": false
  }
 },
 "nbformat": 4,
 "nbformat_minor": 5
}
